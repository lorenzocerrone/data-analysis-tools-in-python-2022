{
 "cells": [
  {
   "cell_type": "markdown",
   "id": "549737f1",
   "metadata": {},
   "source": [
    "# 1) Solving the Lorenz System and plotting it as nice as you can\n",
    "\n",
    "\\begin{aligned}\n",
    "{\\frac {\\mathrm {d} x}{\\mathrm {d} t}}&=\\sigma (y-x),\\\\[6pt]\n",
    "{\\frac {\\mathrm {d} y}{\\mathrm {d} t}}&=x(\\rho -z)-y,\\\\[6pt]\n",
    "{\\frac {\\mathrm {d} z}{\\mathrm {d} t}}&=xy-b z.\n",
    "\\end{aligned}\n",
    "Whith values  $\\sigma=10, \\rho=28, b=2.667$\n",
    "\n",
    "* Implement the Lorenz system of differential equations\n",
    "* Solve the Lorenz system of PDEs using scipy\n",
    "* Make three subplots with x, y, z as a function of the time\n",
    "* try to make the plots as complete as you can\n",
    "* Extra:\n",
    "    - maybe try to plot in 3d the trajectory of the system\n",
    "    - implement yourself an ode-integrator and check the runtime difference compared to scipy"
   ]
  },
  {
   "cell_type": "code",
   "execution_count": null,
   "id": "dc339318-4dc3-4b49-af88-3d9cbd0c8a2b",
   "metadata": {},
   "outputs": [],
   "source": [
    "import numpy as np\n",
    "import matplotlib.pyplot as plt\n",
    "from scipy.integrate import odeint\n",
    "\n",
    "def lorenz(x, t, sigma=10, rho=28, b=2.667):\n",
    "    x_dot = sigma*(x[1] - x[0])\n",
    "    y_dot = rho * x[0] - x[1] - x[0] * x[2]\n",
    "    z_dot = x[0] * x[1] - b * x[2]\n",
    "    return x_dot, y_dot, z_dot\n",
    "\n",
    "time = np.arange(0, 100, 0.01)\n",
    "trajectory = odeint(lorenz, y0=[0, 1, 1], t=time)\n",
    "\n",
    "# params\n",
    "slice_to_show = slice(100, 5000)\n",
    "y_axis_names = ['x(t)', 'y(t)', 'z(t)']\n",
    "\n",
    "fig, axes = plt.subplots(3, 1, figsize=(10, 10))\n",
    "\n",
    "fig.suptitle('Lorenz dynamics')\n",
    "for i, trajectory_x in enumerate(trajectory.T):\n",
    "    axes[i].plot(time[slice_to_show],\n",
    "                 trajectory_x[slice_to_show],\n",
    "                 c=np.random.rand(3)\n",
    "                )\n",
    "    axes[i].set_ylabel(y_axis_names[i])\n",
    "\n",
    "ax = plt.figure(figsize=(10, 10)).add_subplot(projection='3d')\n",
    "\n",
    "ax.plot(trajectory[slice_to_show, 0],\n",
    "        trajectory[slice_to_show, 1],\n",
    "        trajectory[slice_to_show, 2])\n",
    "ax.set_title(\"Lorenz Attractor\")\n",
    "plt.show()\n"
   ]
  },
  {
   "cell_type": "code",
   "execution_count": null,
   "id": "e0c8145f-51c7-4e5c-b471-9138eb48118a",
   "metadata": {},
   "outputs": [],
   "source": [
    "def euler_step(func, y, dt=1e-3):\n",
    "    df_dx = func(y, 0)\n",
    "    y = y + np.array(df_dx) * dt\n",
    "    return y\n",
    "\n",
    "def integrate_euler(func, y0, dt=5e-3, time_steps=100000):\n",
    "    euler_trajectory = np.zeros((time_steps, len(y0)))\n",
    "    euler_trajectory[0] = y0\n",
    "    for i in range(time_steps - 1):\n",
    "        euler_trajectory[i + 1] = euler_step(func, euler_trajectory[i], dt=dt) \n",
    "    return euler_trajectory\n",
    "                        \n",
    "%time trajectory = odeint(lorenz, y0=[1, 0, 0], t=time)\n",
    "%time new_trajectory = integrate_euler(lorenz, y0=[1, 0, 0], time_steps=len(time))\n",
    "\n",
    "ax = plt.figure(figsize=(10, 10)).add_subplot(projection='3d')\n",
    "\n",
    "ax.plot(trajectory[:, 0],\n",
    "        trajectory[:, 1],\n",
    "        trajectory[:, 2]\n",
    "       )\n",
    "\n",
    "ax.plot(new_trajectory[:, 0],\n",
    "        new_trajectory[:, 1],\n",
    "        new_trajectory[:, 2]\n",
    "       )\n",
    "ax.set_title(\"Lorenz Attractor\")\n",
    "plt.show()"
   ]
  },
  {
   "cell_type": "markdown",
   "id": "fc5c40be-8b5a-4540-a97c-8d7f10e93c78",
   "metadata": {},
   "source": [
    "# 2) Image restoration\n",
    "\n",
    "* Load the `image_gray` file in data using matplotlib `np.load`\n",
    "* Visualize the image, you will see that the image as some `burned` pixels where the value is exactly $1$\n",
    "* Find all `burned` pixels\n",
    "* Replace those values with the average of neighbors pixel\n",
    "* Extras:\n",
    "    - If you used for loops try to find a way to do the same without, and check if it's faster.\n",
    "    - Adapt the same restoration for the color image `image_rgb`\n",
    "    "
   ]
  },
  {
   "cell_type": "code",
   "execution_count": null,
   "id": "aca24234",
   "metadata": {},
   "outputs": [],
   "source": [
    "import numpy as np\n",
    "import matplotlib.pyplot as plt\n",
    "\n",
    "image = np.load('./data/image_gray.npy')\n",
    "plt.figure(figsize=(10, 10))\n",
    "plt.imshow(image, cmap='gray')\n",
    "plt.show()"
   ]
  },
  {
   "cell_type": "code",
   "execution_count": null,
   "id": "23b841d8-2060-49dd-92b1-c72dcba0849d",
   "metadata": {},
   "outputs": [],
   "source": [
    "from scipy.ndimage import convolve\n",
    "\n",
    "smoothing_filter = np.ones((3, 3))\n",
    "smoothing_filter /= np.sum(smoothing_filter)\n",
    "\n",
    "smooth_image = convolve(image, smoothing_filter)\n",
    "\n",
    "plt.figure(figsize=(10, 10))\n",
    "plt.imshow(smooth_image, cmap='gray')\n",
    "plt.show()"
   ]
  },
  {
   "cell_type": "code",
   "execution_count": null,
   "id": "7843c013-e680-405c-b0b0-fc3f91f74e19",
   "metadata": {},
   "outputs": [],
   "source": [
    "# method 1\n",
    "mask = image == 1\n",
    "plt.imshow(mask, interpolation='nearest')"
   ]
  },
  {
   "cell_type": "code",
   "execution_count": null,
   "id": "141ae9ca-0f7d-47f0-8d05-24e09d8675ff",
   "metadata": {},
   "outputs": [],
   "source": [
    "# method 1\n",
    "mask = image == 1\n",
    "image[mask] = smooth_image[mask]"
   ]
  },
  {
   "cell_type": "code",
   "execution_count": null,
   "id": "6cd28b96-1878-4ed3-a94a-e0a1acc72e56",
   "metadata": {},
   "outputs": [],
   "source": [
    "# method 2\n",
    "new_image = np.where(image == 1, smooth_image, image)"
   ]
  },
  {
   "cell_type": "code",
   "execution_count": null,
   "id": "bbd89c85-a68a-41c3-8605-f04ba67186b0",
   "metadata": {},
   "outputs": [],
   "source": [
    "# method 3 (do not use this)\n",
    "for i in range(image.shape[0]):\n",
    "    for j in range(image.shape[1]):\n",
    "        pixel = image[i, j]\n",
    "        if pixel == 1:\n",
    "            image[i, j] = smooth_image[i, j]"
   ]
  },
  {
   "cell_type": "code",
   "execution_count": null,
   "id": "30fc8717-9dfd-47bf-b88a-9c7915a4891f",
   "metadata": {},
   "outputs": [],
   "source": [
    "plt.figure(figsize=(10, 10))\n",
    "plt.imshow(new_image, cmap='gray')\n",
    "plt.show()"
   ]
  },
  {
   "cell_type": "code",
   "execution_count": null,
   "id": "4db7eb60-5a30-4271-9ab1-c9b516df58a8",
   "metadata": {},
   "outputs": [],
   "source": [
    "from scipy.ndimage import convolve\n",
    "\n",
    "smoothing_filter = np.ones((5, 5)) / (5*5)\n",
    "smooth_image = convolve(image, smoothing_filter)\n",
    "mask = image == 1\n",
    "image[mask] = smooth_image[mask]"
   ]
  },
  {
   "cell_type": "code",
   "execution_count": null,
   "id": "25f4ff87-d5f8-4cc7-b76f-1668e37d50d3",
   "metadata": {},
   "outputs": [],
   "source": [
    "plt.figure(figsize=(10, 10))\n",
    "plt.imshow(image, cmap='gray')\n",
    "plt.show()"
   ]
  },
  {
   "cell_type": "code",
   "execution_count": null,
   "id": "ebdac389-bb4f-46e6-84ce-07bfb0857d3e",
   "metadata": {},
   "outputs": [],
   "source": [
    "import numpy as np\n",
    "import matplotlib.pyplot as plt\n",
    "image = np.load('./data/image_rgb.npy')\n",
    "plt.figure(figsize=(10, 10))\n",
    "plt.imshow(image)\n",
    "plt.show()"
   ]
  },
  {
   "cell_type": "code",
   "execution_count": null,
   "id": "a98c0871-a9cb-479e-89ac-b4e4765b7f18",
   "metadata": {},
   "outputs": [],
   "source": [
    "def l2_distance(x, y):\n",
    "    dist = (x - y[None, None, :])**2\n",
    "    dist = np.sum(dist, axis=2)\n",
    "    dist = np.sqrt(dist)\n",
    "    return dist\n",
    "    \n",
    "image = np.load('./data/image_rgb.npy')\n",
    "smoothing_filter = np.ones((5, 5, 1))\n",
    "smoothing_filter /= np.sum(smoothing_filter)\n",
    "\n",
    "smooth_image = convolve(image, smoothing_filter)\n",
    "\n",
    "for color in [[1, 0, 0], [0, 1, 0], [0, 0, 1]]:\n",
    "    color = np.array(color)\n",
    "    # mask = image == color[None, None, :]\n",
    "    # Much safer!!! \n",
    "    mask = l2_distance(image, color) < 0.00001\n",
    "    image[mask] = smooth_image[mask]"
   ]
  },
  {
   "cell_type": "code",
   "execution_count": null,
   "id": "bd299f4d-be56-4d63-b152-811fe18685fe",
   "metadata": {},
   "outputs": [],
   "source": [
    "plt.figure(figsize=(10, 10))\n",
    "plt.imshow(image)"
   ]
  },
  {
   "cell_type": "code",
   "execution_count": null,
   "id": "f066b225-30af-4372-a759-097900b2ee8d",
   "metadata": {},
   "outputs": [],
   "source": [
    "image = np.load('./data/image_rgb.npy')\n",
    "\n",
    "smoothing_filter = np.ones((5, 5, 1)) / (5*5)\n",
    "smooth_image = convolve(image, smoothing_filter)\n",
    "\n",
    "colors = np.array([[1, 0, 0], [0, 1, 0], [0, 0, 1]])\n",
    "\n",
    "mask = image[:, :, None, :] == colors[None, None, ...]\n",
    "mask = np.any(mask, axis=3)\n",
    "image[mask] = smooth_image[mask]"
   ]
  },
  {
   "cell_type": "code",
   "execution_count": null,
   "id": "687cb500-d85f-4673-b1c9-a33c66566f49",
   "metadata": {},
   "outputs": [],
   "source": [
    "plt.figure(figsize=(10, 10))\n",
    "plt.imshow(image)"
   ]
  },
  {
   "cell_type": "code",
   "execution_count": null,
   "id": "764b7994-c1ae-4e82-aa35-15345400a90f",
   "metadata": {},
   "outputs": [],
   "source": []
  },
  {
   "cell_type": "code",
   "execution_count": null,
   "id": "eb3cb26d",
   "metadata": {},
   "outputs": [],
   "source": []
  }
 ],
 "metadata": {
  "kernelspec": {
   "display_name": "Python 3 (ipykernel)",
   "language": "python",
   "name": "python3"
  },
  "language_info": {
   "codemirror_mode": {
    "name": "ipython",
    "version": 3
   },
   "file_extension": ".py",
   "mimetype": "text/x-python",
   "name": "python",
   "nbconvert_exporter": "python",
   "pygments_lexer": "ipython3",
   "version": "3.10.4"
  }
 },
 "nbformat": 4,
 "nbformat_minor": 5
}
