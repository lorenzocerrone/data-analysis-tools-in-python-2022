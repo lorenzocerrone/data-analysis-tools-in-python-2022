{
 "cells": [
  {
   "cell_type": "markdown",
   "id": "549737f1",
   "metadata": {},
   "source": [
    "# 1) Solving the Lorenz System and plotting it as nice as you can\n",
    "\n",
    "\\begin{aligned}\n",
    "{\\frac {\\mathrm {d} x}{\\mathrm {d} t}}&=\\sigma (y-x),\\\\[6pt]\n",
    "{\\frac {\\mathrm {d} y}{\\mathrm {d} t}}&=x(\\rho -z)-y,\\\\[6pt]\n",
    "{\\frac {\\mathrm {d} z}{\\mathrm {d} t}}&=xy-b z.\n",
    "\\end{aligned}\n",
    "\n",
    "Whith values  $\\sigma=10, \\rho=28, b=2.667$\n",
    "\n",
    "* Implement the Lorenz system of differential equations\n",
    "* Solve the Lorenz system of PDEs using scipy\n",
    "* Make three subplots with x, y, z as a function of the time\n",
    "* try to make the plots as complete as you can\n",
    "* Extra:\n",
    "    - maybe try to plot in 3d the trajectory of the system\n",
    "    - implement yourself an ode-integrator and check the runtime difference compared to scipy"
   ]
  },
  {
   "cell_type": "markdown",
   "id": "fc5c40be-8b5a-4540-a97c-8d7f10e93c78",
   "metadata": {},
   "source": [
    "# 2) Image restoration\n",
    "\n",
    "* Load the `image_gray` file in data using matplotlib `np.load`\n",
    "* Visualize the image, you will see that the image as some `burned` pixels where the value is exactly $1$\n",
    "* Find all `burned` pixels\n",
    "* Replace those values with the average of neighbors pixel\n",
    "* Extras:\n",
    "    - If you used for loops try to find a way to do the same without, and check if it's faster.\n",
    "    - Adapt the same restoration for the color image `image_rgb`\n",
    "    "
   ]
  },
  {
   "cell_type": "code",
   "execution_count": null,
   "id": "aca24234",
   "metadata": {},
   "outputs": [],
   "source": [
    "import numpy as np\n",
    "import matplotlib.pyplot as plt\n",
    "image = np.load('./data/image_gray.npy')\n",
    "plt.figure(figsize=(10, 10))\n",
    "plt.imshow(image, cmap='gray')\n",
    "plt.show()"
   ]
  },
  {
   "cell_type": "code",
   "execution_count": null,
   "id": "2bbc721d-ad63-4e64-af48-0f7171053ac3",
   "metadata": {},
   "outputs": [],
   "source": [
    "from scipy.ndimage import convolve\n",
    "\n",
    "smoothing_filter = np.ones((5, 5)) / (5*5)\n",
    "smooth_image = convolve(image, smoothing_filter)\n",
    "mask = new_image == 1\n",
    "new_image[mask] = smooth_image[mask]"
   ]
  },
  {
   "cell_type": "code",
   "execution_count": null,
   "id": "ec75cc4e-9b96-4920-a2a6-a3502b7d5200",
   "metadata": {},
   "outputs": [],
   "source": [
    "plt.figure(figsize=(10, 10))\n",
    "plt.imshow(new_image, cmap='gray')\n",
    "plt.show()"
   ]
  },
  {
   "cell_type": "code",
   "execution_count": null,
   "id": "f3cec722-c43c-4d0c-be56-e09cb6c06d1a",
   "metadata": {},
   "outputs": [],
   "source": []
  }
 ],
 "metadata": {
  "kernelspec": {
   "display_name": "Python 3 (ipykernel)",
   "language": "python",
   "name": "python3"
  },
  "language_info": {
   "codemirror_mode": {
    "name": "ipython",
    "version": 3
   },
   "file_extension": ".py",
   "mimetype": "text/x-python",
   "name": "python",
   "nbconvert_exporter": "python",
   "pygments_lexer": "ipython3",
   "version": "3.10.4"
  }
 },
 "nbformat": 4,
 "nbformat_minor": 5
}
