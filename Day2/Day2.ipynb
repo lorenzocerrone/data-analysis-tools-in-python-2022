{
 "cells": [
  {
   "cell_type": "markdown",
   "id": "4ad79deb",
   "metadata": {},
   "source": [
    "# Numpy"
   ]
  },
  {
   "cell_type": "code",
   "execution_count": 4,
   "id": "330d5e01",
   "metadata": {
    "tags": []
   },
   "outputs": [],
   "source": [
    "import numpy as np"
   ]
  },
  {
   "cell_type": "markdown",
   "id": "fc56b841",
   "metadata": {},
   "source": [
    "## arrays"
   ]
  },
  {
   "cell_type": "code",
   "execution_count": 26,
   "id": "327be406",
   "metadata": {
    "tags": []
   },
   "outputs": [
    {
     "data": {
      "text/plain": [
       "array([[ 4.,  9., 16.],\n",
       "       [25., 36., 49.]])"
      ]
     },
     "execution_count": 26,
     "metadata": {},
     "output_type": "execute_result"
    }
   ],
   "source": [
    "x = np.array([1, 2, 3, 4, 5, 6.])\n",
    "\n",
    "\n",
    "# simple operations\n",
    "# x.shape, x.reshape, newaxis, astype indexing\n",
    "x = x.reshape(2, 3)\n",
    "x.astype('int64')\n",
    "x.shape\n",
    "x.max(), x.min(), x.argmax()\n",
    "x.sum(), x.mean()\n",
    "(x + 1) ** 2"
   ]
  },
  {
   "cell_type": "code",
   "execution_count": null,
   "id": "5ea4ad2f-ee8e-489c-b1f5-0d4ea51fb1c4",
   "metadata": {},
   "outputs": [],
   "source": []
  },
  {
   "cell_type": "markdown",
   "id": "08985548",
   "metadata": {},
   "source": [
    "## ufunc and functional style "
   ]
  },
  {
   "cell_type": "code",
   "execution_count": 27,
   "id": "656a37d0",
   "metadata": {
    "tags": []
   },
   "outputs": [
    {
     "data": {
      "text/plain": [
       "[0, 1, 1]"
      ]
     },
     "execution_count": 27,
     "metadata": {},
     "output_type": "execute_result"
    }
   ],
   "source": [
    "a = [1, 1, 1]\n",
    "b = a\n",
    "b[0] = 0\n",
    "a"
   ]
  },
  {
   "cell_type": "code",
   "execution_count": 29,
   "id": "390c7403",
   "metadata": {
    "tags": []
   },
   "outputs": [
    {
     "data": {
      "text/plain": [
       "(array([1, 1, 1]), False)"
      ]
     },
     "execution_count": 29,
     "metadata": {},
     "output_type": "execute_result"
    }
   ],
   "source": [
    "x = np.array([1, 1, 1])\n",
    "y = x * 1\n",
    "y[0] = 0\n",
    "x, x is y"
   ]
  },
  {
   "cell_type": "markdown",
   "id": "c403ddb6",
   "metadata": {},
   "source": [
    "## there are a lot more ufunc"
   ]
  },
  {
   "cell_type": "code",
   "execution_count": 34,
   "id": "143c5af4",
   "metadata": {
    "tags": []
   },
   "outputs": [
    {
     "data": {
      "text/plain": [
       "array([0.24740396, 0.47942554, 0.68163876])"
      ]
     },
     "execution_count": 34,
     "metadata": {},
     "output_type": "execute_result"
    }
   ],
   "source": [
    "x = np.array([0.25, 0.5, 0.75])\n",
    "# np.sin, np.log, np.sum, \n",
    "np.sin(x, out=x) # if you can avoid it "
   ]
  },
  {
   "cell_type": "markdown",
   "id": "f7d744e1",
   "metadata": {},
   "source": [
    "## arrays initialization"
   ]
  },
  {
   "cell_type": "code",
   "execution_count": 40,
   "id": "1b52d4e0-1d2c-4bc4-8ac1-7daa8e08852e",
   "metadata": {},
   "outputs": [
    {
     "data": {
      "text/plain": [
       "array([[11, 11],\n",
       "       [11, 11]])"
      ]
     },
     "execution_count": 40,
     "metadata": {},
     "output_type": "execute_result"
    }
   ],
   "source": [
    "x = np.zeros((10, 10))\n",
    "np.full((2, 2), 11)"
   ]
  },
  {
   "cell_type": "code",
   "execution_count": 50,
   "id": "851b4b58",
   "metadata": {
    "tags": []
   },
   "outputs": [],
   "source": [
    "np.zeros([10, 10]), np.ones(10), np.empty((1, 2, 2))\n",
    "np.zeros_like(x)\n",
    "np.full((2, 2), 11)\n",
    "x = np.random.rand(20, 20) "
   ]
  },
  {
   "cell_type": "code",
   "execution_count": 41,
   "id": "1443bc2f-2583-412a-acb1-fd1c87ccff27",
   "metadata": {},
   "outputs": [],
   "source": [
    "# random numbers"
   ]
  },
  {
   "cell_type": "code",
   "execution_count": 63,
   "id": "6068d838-3018-4c88-a3e1-45e82a6aba90",
   "metadata": {},
   "outputs": [
    {
     "data": {
      "text/plain": [
       "array(['b', 'a'], dtype='<U1')"
      ]
     },
     "execution_count": 63,
     "metadata": {},
     "output_type": "execute_result"
    }
   ],
   "source": [
    "np.random.rand() # uniform 0-1\n",
    "np.random.randn() # gaussian dist. mean 0 std 1\n",
    "np.random.randint(0, 3)\n",
    "\n",
    "np.random.rand(10, 10).shape\n",
    "np.random.randint(3, size=(10, 10))\n",
    "list_x = ['a', 'b', 'c']\n",
    "np.random.choice(list_x, size=2, replace=False)"
   ]
  },
  {
   "cell_type": "markdown",
   "id": "4c1d6851",
   "metadata": {},
   "source": [
    "## array - array operations"
   ]
  },
  {
   "cell_type": "code",
   "execution_count": 66,
   "id": "65186be6",
   "metadata": {
    "tags": []
   },
   "outputs": [
    {
     "data": {
      "text/plain": [
       "(1.5406801458365453, 1.5406801458365453, 1.5406801458365453)"
      ]
     },
     "execution_count": 66,
     "metadata": {},
     "output_type": "execute_result"
    }
   ],
   "source": [
    "x = np.random.rand(3)\n",
    "y = np.random.rand(3)\n",
    "# np.dot(x, y), x.dot(y), np.sum(x * y)\n",
    "# x * y #element wise\n",
    "np.dot(x, y), x.dot(y), np.sum(x * y)"
   ]
  },
  {
   "cell_type": "code",
   "execution_count": 73,
   "id": "4184e42b-0c99-465e-9d9f-fafc8627088d",
   "metadata": {},
   "outputs": [
    {
     "data": {
      "text/plain": [
       "(4, 1, 5)"
      ]
     },
     "execution_count": 73,
     "metadata": {},
     "output_type": "execute_result"
    }
   ],
   "source": [
    "x = np.random.rand(4, 3)\n",
    "y = np.random.rand(1, 3, 5)\n",
    "x.dot(y).shape\n"
   ]
  },
  {
   "cell_type": "code",
   "execution_count": 78,
   "id": "c6675c91-4e61-4885-bd1f-6ea40e0ac4eb",
   "metadata": {},
   "outputs": [
    {
     "name": "stdout",
     "output_type": "stream",
     "text": [
      "[[0. 0. 0.]\n",
      " [1. 1. 1.]\n",
      " [1. 1. 1.]]\n"
     ]
    },
    {
     "data": {
      "text/plain": [
       "(array([2., 2., 2.]), array([0., 3., 3.]))"
      ]
     },
     "execution_count": 78,
     "metadata": {},
     "output_type": "execute_result"
    }
   ],
   "source": [
    "x = np.ones((3, 3))\n",
    "#np.sum(x, axis=1)\n",
    "x[0, :] = 0\n",
    "print(x)\n",
    "np.sum(x, axis=0), np.sum(x, axis=1)"
   ]
  },
  {
   "cell_type": "code",
   "execution_count": 88,
   "id": "4be97ebf-6176-4d5f-8dfa-37c06938e110",
   "metadata": {},
   "outputs": [
    {
     "data": {
      "text/plain": [
       "(1, 10, 1)"
      ]
     },
     "execution_count": 88,
     "metadata": {},
     "output_type": "execute_result"
    }
   ],
   "source": [
    "x = np.zeros(10)\n",
    "x[None, :, np.newaxis].shape"
   ]
  },
  {
   "cell_type": "markdown",
   "id": "8f450e6b",
   "metadata": {},
   "source": [
    "## broadcasting example distance between array an point"
   ]
  },
  {
   "cell_type": "code",
   "execution_count": 90,
   "id": "66996573",
   "metadata": {
    "tags": []
   },
   "outputs": [
    {
     "data": {
      "text/plain": [
       "array([0.22762082, 0.24726232, 0.36318158, 0.29268969, 0.36236799,\n",
       "       0.48990167, 0.57583423, 0.46657785, 0.34250288, 0.71222302])"
      ]
     },
     "execution_count": 90,
     "metadata": {},
     "output_type": "execute_result"
    }
   ],
   "source": [
    "x = np.random.rand(10, 3) # shape (10, 3)\n",
    "x0 = np.random.rand(3) # shape (3, )\n",
    "np.sqrt(np.sum((x - x0)**2, axis=1)) # l2 distance "
   ]
  },
  {
   "cell_type": "code",
   "execution_count": null,
   "id": "6a9d08ab-a09a-418d-b4e9-82dd1cfec411",
   "metadata": {},
   "outputs": [],
   "source": []
  },
  {
   "cell_type": "markdown",
   "id": "8e3dc5e6",
   "metadata": {},
   "source": [
    "for more info https://numpy.org/doc/stable/user/basics.broadcasting.html"
   ]
  },
  {
   "cell_type": "markdown",
   "id": "721309f7",
   "metadata": {},
   "source": [
    "## advanced indexing and masking"
   ]
  },
  {
   "cell_type": "code",
   "execution_count": 93,
   "id": "fae2721b",
   "metadata": {
    "tags": []
   },
   "outputs": [
    {
     "name": "stdout",
     "output_type": "stream",
     "text": [
      "[0.29735793 0.35572539 0.9659533  0.4871448  0.99778708 0.98825531\n",
      " 0.58066999 0.34883089 0.18909067 0.8368667 ]\n",
      "[False False  True False  True  True  True False False  True]\n"
     ]
    },
    {
     "data": {
      "text/plain": [
       "array([0.9659533 , 0.99778708, 0.98825531, 0.58066999, 0.8368667 ])"
      ]
     },
     "execution_count": 93,
     "metadata": {},
     "output_type": "execute_result"
    }
   ],
   "source": [
    "x  = np.random.rand(10)\n",
    "print(x)\n",
    "mask = x > 0.5\n",
    "print(mask)\n",
    "x[mask]"
   ]
  },
  {
   "cell_type": "code",
   "execution_count": 98,
   "id": "9f05584b",
   "metadata": {
    "tags": []
   },
   "outputs": [
    {
     "data": {
      "text/plain": [
       "array([0, 0, 1, 0, 1, 1, 1, 0, 0, 1])"
      ]
     },
     "execution_count": 98,
     "metadata": {},
     "output_type": "execute_result"
    }
   ],
   "source": [
    "# case 1\n",
    "index = np.where(x > 0.5)[0]\n",
    "x[index]\n",
    "\n",
    "np.where(x > 0.5, 1, 0)"
   ]
  },
  {
   "cell_type": "code",
   "execution_count": 99,
   "id": "f7ea7455",
   "metadata": {
    "tags": []
   },
   "outputs": [
    {
     "data": {
      "text/plain": [
       "array([0.29735793, 0.35572539, 0.9659533 ])"
      ]
     },
     "execution_count": 99,
     "metadata": {},
     "output_type": "execute_result"
    }
   ],
   "source": [
    "x[[0, 1, 2]]"
   ]
  },
  {
   "cell_type": "markdown",
   "id": "900283d5",
   "metadata": {},
   "source": [
    "## numpy linlang"
   ]
  },
  {
   "cell_type": "code",
   "execution_count": 100,
   "id": "ef64bc6a",
   "metadata": {
    "tags": []
   },
   "outputs": [],
   "source": [
    "matrix = np.random.rand(3, 3)"
   ]
  },
  {
   "cell_type": "code",
   "execution_count": 102,
   "id": "68619b1b-6c94-4a85-8846-9dceb4ff0c5c",
   "metadata": {},
   "outputs": [
    {
     "name": "stdout",
     "output_type": "stream",
     "text": [
      "[ 1.3912058 +0.j         -0.20520966+0.18437935j -0.20520966-0.18437935j]\n"
     ]
    }
   ],
   "source": [
    "eig, eigvectors = np.linalg.eig(matrix)\n",
    "print(eig)"
   ]
  },
  {
   "cell_type": "code",
   "execution_count": 103,
   "id": "cc4728b7-a5fa-43c0-b0c4-a64b34d93c04",
   "metadata": {},
   "outputs": [
    {
     "data": {
      "text/plain": [
       "array([[-1.55520416,  3.77000194, -0.62732799],\n",
       "       [ 0.06498257, -2.50311106,  2.26169288],\n",
       "       [ 2.08086576, -0.80107061, -0.61556341]])"
      ]
     },
     "execution_count": 103,
     "metadata": {},
     "output_type": "execute_result"
    }
   ],
   "source": [
    "np.linalg.inv(matrix)"
   ]
  },
  {
   "cell_type": "code",
   "execution_count": 105,
   "id": "bbe5ba7f",
   "metadata": {
    "tags": []
   },
   "outputs": [
    {
     "data": {
      "text/plain": [
       "array([[ 1.00000000e+00, -5.83341827e-16, -1.74277779e-16],\n",
       "       [ 3.62663460e-16,  1.00000000e+00,  1.90070052e-16],\n",
       "       [-9.58189269e-17, -1.35897242e-18,  1.00000000e+00]])"
      ]
     },
     "execution_count": 105,
     "metadata": {},
     "output_type": "execute_result"
    }
   ],
   "source": [
    "np.matmul(np.linalg.inv(matrix), matrix)"
   ]
  },
  {
   "cell_type": "code",
   "execution_count": 107,
   "id": "cf55136d",
   "metadata": {
    "tags": []
   },
   "outputs": [
    {
     "data": {
      "text/plain": [
       "(array([[-0.58663944, -0.73583556, -0.33823099],\n",
       "        [-0.46212289, -0.03881526,  0.88596603],\n",
       "        [-0.66505383,  0.6760469 , -0.31727589]]),\n",
       " array([1.39547576, 0.39245744, 0.1933302 ]),\n",
       " array([[-0.57584756, -0.5379893 , -0.61560304],\n",
       "        [ 0.22524614,  0.61943633, -0.7520391 ],\n",
       "        [ 0.78591588, -0.57172209, -0.23552088]]))"
      ]
     },
     "execution_count": 107,
     "metadata": {},
     "output_type": "execute_result"
    }
   ],
   "source": [
    "np.linalg.svd(matrix)"
   ]
  },
  {
   "cell_type": "markdown",
   "id": "486b63b8",
   "metadata": {},
   "source": [
    "# numpy i/o"
   ]
  },
  {
   "cell_type": "code",
   "execution_count": 108,
   "id": "8b9a1328",
   "metadata": {
    "tags": []
   },
   "outputs": [
    {
     "data": {
      "text/plain": [
       "array([[0.35497373, 0.29892183, 0.7365357 ],\n",
       "       [0.50253688, 0.23957631, 0.36810599],\n",
       "       [0.54597975, 0.69870733, 0.38623644]])"
      ]
     },
     "execution_count": 108,
     "metadata": {},
     "output_type": "execute_result"
    }
   ],
   "source": [
    "np.save('test.npy', matrix)\n",
    "np.load('test.npy')"
   ]
  },
  {
   "cell_type": "code",
   "execution_count": null,
   "id": "93f278bf-bb87-444e-a7e8-f87356f4dfb0",
   "metadata": {},
   "outputs": [],
   "source": [
    "# more array initializations"
   ]
  },
  {
   "cell_type": "code",
   "execution_count": 112,
   "id": "f402acd0-5647-4a2d-9e02-46fd6d18cf8e",
   "metadata": {},
   "outputs": [
    {
     "data": {
      "text/plain": [
       "(array([0. , 0.1, 0.2, 0.3, 0.4, 0.5, 0.6, 0.7, 0.8, 0.9]),\n",
       " array([0.        , 0.16666667, 0.33333333, 0.5       , 0.66666667,\n",
       "        0.83333333, 1.        ]))"
      ]
     },
     "execution_count": 112,
     "metadata": {},
     "output_type": "execute_result"
    }
   ],
   "source": [
    "np.arange(0, 1, 0.1), np.linspace(0, 1, 7)"
   ]
  },
  {
   "cell_type": "markdown",
   "id": "86ac83c0",
   "metadata": {},
   "source": [
    "# Matplotlib"
   ]
  },
  {
   "cell_type": "code",
   "execution_count": 113,
   "id": "700291fb",
   "metadata": {
    "tags": []
   },
   "outputs": [],
   "source": [
    "import matplotlib.pyplot as plt"
   ]
  },
  {
   "cell_type": "code",
   "execution_count": 114,
   "id": "8d57b01c",
   "metadata": {
    "tags": []
   },
   "outputs": [],
   "source": [
    "x = np.arange(0, 12, 0.1)\n",
    "y = np.sin(x)"
   ]
  },
  {
   "cell_type": "code",
   "execution_count": 127,
   "id": "62dd5e55-c49b-4737-8fae-e4500ffc6265",
   "metadata": {},
   "outputs": [
    {
     "data": {
      "image/png": "[encoded data removed]",
      "text/plain": [
       "<Figure size 720x360 with 1 Axes>"
      ]
     },
     "metadata": {
      "needs_background": "light"
     },
     "output_type": "display_data"
    }
   ],
   "source": [
    "plt.figure(figsize=(10, 5))\n",
    "\n",
    "plt.plot(x, y, c=np.random.rand(3), label='line')\n",
    "plt.scatter(x[::10], y[::10], label='scatter')\n",
    "plt.legend()\n",
    "plt.xlabel('x')\n",
    "plt.ylabel('sin(x)')\n",
    "plt.show()"
   ]
  },
  {
   "cell_type": "code",
   "execution_count": 136,
   "id": "f8c76c1b-946a-42c7-8d38-6311972bdac7",
   "metadata": {},
   "outputs": [
    {
     "data": {
      "text/plain": [
       "Text(0.5, 0, 'x')"
      ]
     },
     "execution_count": 136,
     "metadata": {},
     "output_type": "execute_result"
    },
    {
     "data": {
      "image/png": "[encoded data removed]",
      "text/plain": [
       "<Figure size 432x288 with 2 Axes>"
      ]
     },
     "metadata": {
      "needs_background": "light"
     },
     "output_type": "display_data"
    }
   ],
   "source": [
    "fig, axes = plt.subplots(1, 2)\n",
    "axes[0].plot(x, y)\n",
    "axes[1].plot(x, np.cos(x))\n",
    "axes[1].set_xlabel('x')\n"
   ]
  },
  {
   "cell_type": "code",
   "execution_count": 133,
   "id": "302e38cb-cd2f-461b-b529-6cb333e024b8",
   "metadata": {},
   "outputs": [
    {
     "data": {
      "text/plain": [
       "array([[<AxesSubplot:>, <AxesSubplot:>],\n",
       "       [<AxesSubplot:>, <AxesSubplot:>]], dtype=object)"
      ]
     },
     "execution_count": 133,
     "metadata": {},
     "output_type": "execute_result"
    }
   ],
   "source": [
    "axes"
   ]
  },
  {
   "cell_type": "code",
   "execution_count": 142,
   "id": "f67dbba1",
   "metadata": {
    "tags": []
   },
   "outputs": [
    {
     "data": {
      "text/plain": [
       "(200, 200)"
      ]
     },
     "execution_count": 142,
     "metadata": {},
     "output_type": "execute_result"
    }
   ],
   "source": [
    "x, y = np.arange(-1, 1, 0.01), np.arange(-1, 1, 0.01)\n",
    "\n",
    "\"\"\"\n",
    "(-1, -1)......(-1, 1)\n",
    ".\n",
    ".\n",
    ".\n",
    "(1, -1) .......(1, 1)\n",
    "\"\"\"\n",
    "\n",
    "xx, yy = np.meshgrid(x, y)\n",
    "zz = np.exp(- (xx)**2 - (yy)**2) \n",
    "zz.shape"
   ]
  },
  {
   "cell_type": "code",
   "execution_count": 145,
   "id": "e5306448",
   "metadata": {
    "tags": []
   },
   "outputs": [
    {
     "data": {
      "text/plain": [
       "<matplotlib.colorbar.Colorbar at 0x7fdcb0a0d750>"
      ]
     },
     "execution_count": 145,
     "metadata": {},
     "output_type": "execute_result"
    },
    {
     "data": {
      "image/png": "[encoded data removed]",
      "text/plain": [
       "<Figure size 432x288 with 2 Axes>"
      ]
     },
     "metadata": {
      "needs_background": "light"
     },
     "output_type": "display_data"
    }
   ],
   "source": [
    "plt.imshow(zz, cmap='gray')\n",
    "plt.colorbar()"
   ]
  },
  {
   "cell_type": "markdown",
   "id": "16c0f62b-91c1-4d24-8f6e-785bbda44310",
   "metadata": {},
   "source": [
    "https://matplotlib.org/devdocs/gallery/index.html"
   ]
  },
  {
   "cell_type": "markdown",
   "id": "63f0fe51",
   "metadata": {},
   "source": [
    "# Scipy\n",
    "\n",
    "just too much to give an overview\n",
    "https://scipy.github.io/devdocs/reference/cluster.html"
   ]
  },
  {
   "cell_type": "markdown",
   "id": "44fa3f5a",
   "metadata": {},
   "source": [
    "## Scipy Example ODE\n",
    "\n",
    "$\\frac{d}{dt} x = - x^2 + 3$"
   ]
  },
  {
   "cell_type": "code",
   "execution_count": 149,
   "id": "98f4698e",
   "metadata": {
    "tags": []
   },
   "outputs": [
    {
     "data": {
      "text/plain": [
       "[<matplotlib.lines.Line2D at 0x7fdcad3b9210>]"
      ]
     },
     "execution_count": 149,
     "metadata": {},
     "output_type": "execute_result"
    },
    {
     "data": {
      "image/png": "[encoded data removed]",
      "text/plain": [
       "<Figure size 432x288 with 1 Axes>"
      ]
     },
     "metadata": {
      "needs_background": "light"
     },
     "output_type": "display_data"
    }
   ],
   "source": [
    "from scipy.integrate import odeint\n",
    "\n",
    "def dx_dt(x, _):\n",
    "    return - x**2 + 3\n",
    "\n",
    "y_t = odeint(dx_dt, y0=1, t=np.arange(0, 3, 0.01))\n",
    "\n",
    "plt.plot(np.arange(0, 3, 0.01), y_t)"
   ]
  },
  {
   "cell_type": "markdown",
   "id": "0af35dc1",
   "metadata": {},
   "source": [
    "## Scipy example convolutions"
   ]
  },
  {
   "cell_type": "code",
   "execution_count": 160,
   "id": "28edb2fb",
   "metadata": {
    "tags": []
   },
   "outputs": [
    {
     "data": {
      "image/png": "[encoded data removed]",
      "text/plain": [
       "<Figure size 432x288 with 1 Axes>"
      ]
     },
     "metadata": {
      "needs_background": "light"
     },
     "output_type": "display_data"
    },
    {
     "data": {
      "text/plain": [
       "<matplotlib.image.AxesImage at 0x7fdcad280490>"
      ]
     },
     "execution_count": 160,
     "metadata": {},
     "output_type": "execute_result"
    },
    {
     "data": {
      "image/png": "[encoded data removed]",
      "text/plain": [
       "<Figure size 432x288 with 1 Axes>"
      ]
     },
     "metadata": {
      "needs_background": "light"
     },
     "output_type": "display_data"
    }
   ],
   "source": [
    "from scipy.ndimage import convolve\n",
    "\n",
    "image = np.zeros((50, 50))\n",
    "image[20:-20, 20:-20] = 1\n",
    "image += np.random.rand(*image.shape) * 0.2\n",
    "plt.imshow(image)\n",
    "plt.show()\n",
    "\n",
    "\n",
    "smoothing_filter = np.ones((3, 3)) / 9\n",
    "smooth_image = convolve(image, smoothing_filter)\n",
    "plt.imshow(smooth_image)\n",
    "\n",
    "\n"
   ]
  },
  {
   "cell_type": "code",
   "execution_count": 184,
   "id": "f0581c67-6b1e-480f-a7b9-8b941f0b5ccc",
   "metadata": {},
   "outputs": [
    {
     "data": {
      "text/plain": [
       "(array([[0.4547556 , 0.82035795, 0.2211492 ],\n",
       "        [0.60856465, 0.32003732, 0.72106787],\n",
       "        [0.18441151, 0.72527157, 0.98989215]]),\n",
       " array([[[0.57967264, 0.24641905, 0.87981998],\n",
       "         [0.73982342, 0.11875428, 0.88829514],\n",
       "         [0.26111556, 0.85690833, 0.71817902]],\n",
       " \n",
       "        [[0.86563016, 0.51796988, 0.80485151],\n",
       "         [0.40697706, 0.0355062 , 0.36387476],\n",
       "         [0.84679756, 0.44558676, 0.21563509]],\n",
       " \n",
       "        [[0.51026343, 0.94321847, 0.93338774],\n",
       "         [0.60555524, 0.84901832, 0.48348235],\n",
       "         [0.38450771, 0.30298165, 0.06689638]]]))"
      ]
     },
     "execution_count": 184,
     "metadata": {},
     "output_type": "execute_result"
    }
   ],
   "source": [
    "x = np.ones((3, 3, 3))\n",
    "np.random.rand(x.shape[0], x.shape[1]), np.random.rand(*x.shape)"
   ]
  },
  {
   "cell_type": "code",
   "execution_count": 193,
   "id": "beac3336-2c8a-4997-aebb-b8fd05fad739",
   "metadata": {},
   "outputs": [],
   "source": [
    "x = np.zeros((10, 10))\n",
    "np.random.rand(1, 2, 3, 4, 4).shape\n",
    "\n",
    "def zeros_like_rand(*args):\n",
    "    return np.zeros(args)\n",
    "\n",
    "a, *b, c = [1, 2, 3, 4, 5]\n",
    "c\n",
    "\n",
    "_ = zeros_like_rand(*(2, 2, 3, 4))"
   ]
  },
  {
   "cell_type": "markdown",
   "id": "bd7d082e",
   "metadata": {},
   "source": [
    "## Scipy example fitting curve"
   ]
  },
  {
   "cell_type": "code",
   "execution_count": 169,
   "id": "ff2e935d",
   "metadata": {
    "tags": []
   },
   "outputs": [
    {
     "data": {
      "text/plain": [
       "array([1.93983488, 0.80954876])"
      ]
     },
     "execution_count": 169,
     "metadata": {},
     "output_type": "execute_result"
    },
    {
     "data": {
      "image/png": "[encoded data removed]",
      "text/plain": [
       "<Figure size 432x288 with 1 Axes>"
      ]
     },
     "metadata": {
      "needs_background": "light"
     },
     "output_type": "display_data"
    }
   ],
   "source": [
    "from scipy.optimize import curve_fit\n",
    "\n",
    "def gaussian(x, sigma, mu):\n",
    "    return np.exp(-(x - mu)**2/(2*sigma**2))\n",
    "\n",
    "x = np.arange(-3, 3, 0.01)\n",
    "y = gaussian(x, sigma=0.5, mu=1) + np.random.rand(*x.shape) * 1\n",
    "plt.plot(x, y)\n",
    "\n",
    "param, _ = curve_fit(gaussian, x, y)\n",
    "param"
   ]
  },
  {
   "cell_type": "code",
   "execution_count": null,
   "id": "25fd273d-7b5f-4d48-b0db-9fa363fdb98d",
   "metadata": {},
   "outputs": [],
   "source": []
  }
 ],
 "metadata": {
  "kernelspec": {
   "display_name": "Python 3 (ipykernel)",
   "language": "python",
   "name": "python3"
  },
  "language_info": {
   "codemirror_mode": {
    "name": "ipython",
    "version": 3
   },
   "file_extension": ".py",
   "mimetype": "text/x-python",
   "name": "python",
   "nbconvert_exporter": "python",
   "pygments_lexer": "ipython3",
   "version": "3.10.4"
  }
 },
 "nbformat": 4,
 "nbformat_minor": 5
}
