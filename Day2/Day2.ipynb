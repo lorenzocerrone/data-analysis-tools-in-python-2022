{
 "cells": [
  {
   "cell_type": "markdown",
   "id": "4ad79deb",
   "metadata": {},
   "source": [
    "# Numpy"
   ]
  },
  {
   "cell_type": "code",
   "execution_count": 91,
   "id": "330d5e01",
   "metadata": {},
   "outputs": [],
   "source": [
    "import numpy as np"
   ]
  },
  {
   "cell_type": "markdown",
   "id": "fc56b841",
   "metadata": {},
   "source": [
    "## arrays"
   ]
  },
  {
   "cell_type": "code",
   "execution_count": 125,
   "id": "327be406",
   "metadata": {},
   "outputs": [],
   "source": [
    "x = np.array([1, 2, 3, 4, 5, 6])\n",
    "\n",
    "# simple operations\n",
    "# x.shape, x.reshape, newaxis, astype indexing"
   ]
  },
  {
   "cell_type": "markdown",
   "id": "08985548",
   "metadata": {},
   "source": [
    "## ufunc and functional style "
   ]
  },
  {
   "cell_type": "code",
   "execution_count": 126,
   "id": "656a37d0",
   "metadata": {},
   "outputs": [
    {
     "data": {
      "text/plain": [
       "[0, 1, 1]"
      ]
     },
     "execution_count": 126,
     "metadata": {},
     "output_type": "execute_result"
    }
   ],
   "source": [
    "a = [1, 1, 1]\n",
    "b = a\n",
    "b[0] = 0\n",
    "a"
   ]
  },
  {
   "cell_type": "code",
   "execution_count": 127,
   "id": "390c7403",
   "metadata": {},
   "outputs": [
    {
     "data": {
      "text/plain": [
       "(array([0, 1, 1]), True)"
      ]
     },
     "execution_count": 127,
     "metadata": {},
     "output_type": "execute_result"
    }
   ],
   "source": [
    "x = np.array([1, 1, 1])\n",
    "y = x # * 1\n",
    "y[0] = 0\n",
    "x, x is y"
   ]
  },
  {
   "cell_type": "markdown",
   "id": "c403ddb6",
   "metadata": {},
   "source": [
    "## there are a lot more ufunc"
   ]
  },
  {
   "cell_type": "code",
   "execution_count": 128,
   "id": "143c5af4",
   "metadata": {},
   "outputs": [],
   "source": [
    "x = np.array([0.25, 0.5, 0.75])\n",
    "# np.sin, np.log, np.sum, "
   ]
  },
  {
   "cell_type": "markdown",
   "id": "f7d744e1",
   "metadata": {},
   "source": [
    "## arrays initialization"
   ]
  },
  {
   "cell_type": "code",
   "execution_count": 129,
   "id": "851b4b58",
   "metadata": {},
   "outputs": [],
   "source": [
    "np.zeros((10, 10)), np.ones(10), np.empty((1, 2, 2))\n",
    "np.zeros_like(x)\n",
    "np.full((2, 2), 11)\n",
    "x = np.random.rand(20, 20) "
   ]
  },
  {
   "cell_type": "markdown",
   "id": "4c1d6851",
   "metadata": {},
   "source": [
    "## array - array operations"
   ]
  },
  {
   "cell_type": "code",
   "execution_count": 130,
   "id": "65186be6",
   "metadata": {},
   "outputs": [
    {
     "data": {
      "text/plain": [
       "(1.1562487510023591, 1.1562487510023591, 1.1562487510023591)"
      ]
     },
     "execution_count": 130,
     "metadata": {},
     "output_type": "execute_result"
    }
   ],
   "source": [
    "x = np.random.rand(3)\n",
    "y = np.random.rand(3)\n",
    "x + y #element wise\n",
    "np.dot(x, y), x.dot(y), np.sum(x * y)"
   ]
  },
  {
   "cell_type": "markdown",
   "id": "8f450e6b",
   "metadata": {},
   "source": [
    "## broadcasting example distance between array an point"
   ]
  },
  {
   "cell_type": "code",
   "execution_count": 160,
   "id": "66996573",
   "metadata": {},
   "outputs": [
    {
     "data": {
      "text/plain": [
       "array([0.62100944, 0.47240538, 0.59419813, 0.72472726, 0.79328262,\n",
       "       0.75565573, 0.64344514, 0.91070696, 0.8721046 , 0.84502838])"
      ]
     },
     "execution_count": 160,
     "metadata": {},
     "output_type": "execute_result"
    }
   ],
   "source": [
    "x = np.random.rand(10, 3) # shape (10, 3)\n",
    "x0 = np.random.rand(3) # shape (3, )\n",
    "np.sqrt(np.sum((x - x0)**2, axis=1)) # l2 distance "
   ]
  },
  {
   "cell_type": "markdown",
   "id": "8e3dc5e6",
   "metadata": {},
   "source": [
    "for more info https://numpy.org/doc/stable/user/basics.broadcasting.html"
   ]
  },
  {
   "cell_type": "markdown",
   "id": "721309f7",
   "metadata": {},
   "source": [
    "## advanced indexing and masking"
   ]
  },
  {
   "cell_type": "code",
   "execution_count": 190,
   "id": "fae2721b",
   "metadata": {},
   "outputs": [
    {
     "data": {
      "text/plain": [
       "array([0.76020471, 0.58070626, 0.50051072])"
      ]
     },
     "execution_count": 190,
     "metadata": {},
     "output_type": "execute_result"
    }
   ],
   "source": [
    "x  = np.random.rand(10)\n",
    "mask = x > 0.5\n",
    "x[mask]"
   ]
  },
  {
   "cell_type": "code",
   "execution_count": 191,
   "id": "9f05584b",
   "metadata": {},
   "outputs": [
    {
     "data": {
      "text/plain": [
       "array([0.76020471, 0.58070626, 0.50051072])"
      ]
     },
     "execution_count": 191,
     "metadata": {},
     "output_type": "execute_result"
    }
   ],
   "source": [
    "index = np.where(x > 0.5)[0]\n",
    "x[index]"
   ]
  },
  {
   "cell_type": "code",
   "execution_count": 192,
   "id": "f7ea7455",
   "metadata": {},
   "outputs": [
    {
     "data": {
      "text/plain": [
       "array([0.31693044, 0.2625657 , 0.76020471])"
      ]
     },
     "execution_count": 192,
     "metadata": {},
     "output_type": "execute_result"
    }
   ],
   "source": [
    "x[[0, 1, 2]]"
   ]
  },
  {
   "cell_type": "markdown",
   "id": "900283d5",
   "metadata": {},
   "source": [
    "## numpy linlang"
   ]
  },
  {
   "cell_type": "code",
   "execution_count": 193,
   "id": "ef64bc6a",
   "metadata": {},
   "outputs": [],
   "source": [
    "matrix = np.random.rand(3, 3)"
   ]
  },
  {
   "cell_type": "code",
   "execution_count": 196,
   "id": "bbe5ba7f",
   "metadata": {},
   "outputs": [
    {
     "data": {
      "text/plain": [
       "array([[ 1.00000000e+00, -4.41704980e-17, -7.35200990e-16],\n",
       "       [ 1.27645608e-15,  1.00000000e+00, -1.45574119e-15],\n",
       "       [-1.14129225e-15, -6.06635889e-16,  1.00000000e+00]])"
      ]
     },
     "execution_count": 196,
     "metadata": {},
     "output_type": "execute_result"
    }
   ],
   "source": [
    "np.linalg.inv(matrix) @ matrix"
   ]
  },
  {
   "cell_type": "code",
   "execution_count": 197,
   "id": "cf55136d",
   "metadata": {},
   "outputs": [
    {
     "data": {
      "text/plain": [
       "(array([[-0.33292388, -0.17762655, -0.92607262],\n",
       "        [-0.67103453, -0.64534768,  0.36501922],\n",
       "        [-0.66247592,  0.74295032,  0.09565811]]),\n",
       " array([1.61852253, 0.33184246, 0.0222686 ]),\n",
       " array([[-0.72649692, -0.23576997, -0.64545701],\n",
       "        [ 0.56772665, -0.7351413 , -0.37047769],\n",
       "        [-0.38715459, -0.63559405,  0.66793078]]))"
      ]
     },
     "execution_count": 197,
     "metadata": {},
     "output_type": "execute_result"
    }
   ],
   "source": [
    "np.linalg.svd(matrix)"
   ]
  },
  {
   "cell_type": "markdown",
   "id": "486b63b8",
   "metadata": {},
   "source": [
    "# numpy i/o"
   ]
  },
  {
   "cell_type": "code",
   "execution_count": 200,
   "id": "8b9a1328",
   "metadata": {},
   "outputs": [],
   "source": [
    "np.save('test.npy', matrix)\n",
    "np.load('test.npy')"
   ]
  },
  {
   "cell_type": "markdown",
   "id": "86ac83c0",
   "metadata": {},
   "source": [
    "# Matplotlib"
   ]
  },
  {
   "cell_type": "code",
   "execution_count": 214,
   "id": "700291fb",
   "metadata": {},
   "outputs": [],
   "source": [
    "import matplotlib.pyplot as plt"
   ]
  },
  {
   "cell_type": "code",
   "execution_count": 222,
   "id": "8d57b01c",
   "metadata": {},
   "outputs": [],
   "source": [
    "x = np.arange(0, 12, 0.1)\n",
    "y = np.sin(x)"
   ]
  },
  {
   "cell_type": "code",
   "execution_count": 259,
   "id": "f67dbba1",
   "metadata": {},
   "outputs": [],
   "source": [
    "x, y = np.arange(-1, 1, 0.01), np.arange(-1, 1, 0.01)\n",
    "xx, yy = np.meshgrid(x, y)\n",
    "zz = np.exp(- (xx)**2 - (yy)**2) "
   ]
  },
  {
   "cell_type": "code",
   "execution_count": 260,
   "id": "e5306448",
   "metadata": {},
   "outputs": [
    {
     "data": {
      "text/plain": [
       "<matplotlib.image.AxesImage at 0x7fd78da23910>"
      ]
     },
     "execution_count": 260,
     "metadata": {},
     "output_type": "execute_result"
    },
    {
     "data": {
      "image/png": "[encoded data removed]",
      "text/plain": [
       "<Figure size 432x288 with 1 Axes>"
      ]
     },
     "metadata": {
      "needs_background": "light"
     },
     "output_type": "display_data"
    }
   ],
   "source": [
    "plt.imshow(zz)"
   ]
  },
  {
   "cell_type": "markdown",
   "id": "63f0fe51",
   "metadata": {},
   "source": [
    "# Scipy\n",
    "\n",
    "just too much to give an overview\n",
    "https://scipy.github.io/devdocs/reference/cluster.html"
   ]
  },
  {
   "cell_type": "markdown",
   "id": "44fa3f5a",
   "metadata": {},
   "source": [
    "## Scipy Example ODE\n",
    "\n",
    "$\\frac{d}{dt} x = - x^2 + 3$"
   ]
  },
  {
   "cell_type": "code",
   "execution_count": 322,
   "id": "98f4698e",
   "metadata": {},
   "outputs": [],
   "source": [
    "from scipy.integrate import odeint\n",
    "\n",
    "def dx_dt(x, t):\n",
    "    return - x**2 + 3\n"
   ]
  },
  {
   "cell_type": "markdown",
   "id": "0af35dc1",
   "metadata": {},
   "source": [
    "## Scipy example convolutions"
   ]
  },
  {
   "cell_type": "code",
   "execution_count": 342,
   "id": "28edb2fb",
   "metadata": {},
   "outputs": [],
   "source": [
    "from scipy.ndimage import distance_transform_edt, convolve"
   ]
  },
  {
   "cell_type": "markdown",
   "id": "bd7d082e",
   "metadata": {},
   "source": [
    "## Scipy example fitting curve"
   ]
  },
  {
   "cell_type": "code",
   "execution_count": 395,
   "id": "ff2e935d",
   "metadata": {},
   "outputs": [
    {
     "data": {
      "text/plain": [
       "[<matplotlib.lines.Line2D at 0x7fd78594d330>]"
      ]
     },
     "execution_count": 395,
     "metadata": {},
     "output_type": "execute_result"
    },
    {
     "data": {
      "image/png": "[encoded data removed]",
      "text/plain": [
       "<Figure size 432x288 with 1 Axes>"
      ]
     },
     "metadata": {
      "needs_background": "light"
     },
     "output_type": "display_data"
    }
   ],
   "source": [
    "from scipy.optimize import curve_fit\n",
    "\n",
    "def gaussian(x, sigma, mu):\n",
    "    return np.exp(-(x - mu)**2/(2*sigma**2))\n",
    "\n",
    "x = np.arange(-3, 3, 0.01)\n",
    "y = gaussian(x, sigma=0.5, mu=1) + np.random.rand(*x.shape) * 0.1\n",
    "plt.plot(x, y)"
   ]
  },
  {
   "cell_type": "code",
   "execution_count": null,
   "id": "d8e44474",
   "metadata": {},
   "outputs": [],
   "source": []
  }
 ],
 "metadata": {
  "kernelspec": {
   "display_name": "Python 3 (ipykernel)",
   "language": "python",
   "name": "python3"
  },
  "language_info": {
   "codemirror_mode": {
    "name": "ipython",
    "version": 3
   },
   "file_extension": ".py",
   "mimetype": "text/x-python",
   "name": "python",
   "nbconvert_exporter": "python",
   "pygments_lexer": "ipython3",
   "version": "3.10.4"
  }
 },
 "nbformat": 4,
 "nbformat_minor": 5
}
