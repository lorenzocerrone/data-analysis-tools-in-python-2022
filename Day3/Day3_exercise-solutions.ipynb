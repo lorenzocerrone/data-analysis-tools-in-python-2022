{
 "cells": [
  {
   "cell_type": "markdown",
   "id": "ecad1a38",
   "metadata": {},
   "source": [
    "# Pandas/Sklearn \"Hello world\" - Iris dataset\n",
    "\n",
    "**Part 1:**\n",
    "- Load the iris dataset from sklearn \n",
    "- Create a pandas dataframe containing the dataset \n",
    "- Try to plot two of the features using plotly scatter plot \n",
    "(just as an example, `sepal length` on the `x` axis and `sepal width` on the `y`): \n",
    "- Are the class linearly separable?\n",
    "- Now try to use the sklearn `PCA` to reduce the number of features from 4 to 2\n",
    "- Are the new features linearly separable? \n",
    "\n",
    "**Part 2:**\n",
    "- Now, you can use the train/test using `train_test_split`\n",
    "- Try to train the a classifier of your choice on your training dataset  \n",
    "(just as an example, `sklearn.ensemble.RandomForestClassifier`)\n",
    "- Measure the performance of your classifier on test data"
   ]
  },
  {
   "cell_type": "code",
   "execution_count": null,
   "id": "2c169b12",
   "metadata": {},
   "outputs": [],
   "source": [
    "from sklearn.datasets import load_iris\n",
    "from sklearn.decomposition import PCA\n",
    "from sklearn.model_selection import train_test_split\n",
    "from sklearn.ensemble import RandomForestClassifier\n",
    "from sklearn.metrics import classification_report, ConfusionMatrixDisplay, confusion_matrix\n",
    "dataset = load_iris(return_X_y=False, as_frame=False)\n",
    "\n",
    "# remove comment to print the dataset description\n",
    "# print(dataset['DESCR'])"
   ]
  },
  {
   "cell_type": "code",
   "execution_count": null,
   "id": "2c2faea5-6637-45bb-ada4-1ed38774be26",
   "metadata": {},
   "outputs": [],
   "source": [
    "dataset['target_names'][[0, 1, 2, 2, 2, 0, 1]]"
   ]
  },
  {
   "cell_type": "code",
   "execution_count": null,
   "id": "fbd82481-7358-412f-95c9-2d0351db27de",
   "metadata": {},
   "outputs": [],
   "source": [
    "import pandas as pd\n",
    "\n",
    "features_names = dataset['feature_names']\n",
    "print(features_names)\n",
    "\n",
    "dataframe_dict = {name: dataset['data'][:, i] for i, name in enumerate(features_names)}\n",
    "dataframe_dict['labels'] = dataset['target']\n",
    "dataframe_dict['labels_name'] = dataset['target_names'][dataset['target']]\n",
    "iris_dataframe = pd.DataFrame(dataframe_dict)"
   ]
  },
  {
   "cell_type": "code",
   "execution_count": null,
   "id": "41f0e87d-4dd9-4eb8-a92a-16fc02d348e6",
   "metadata": {},
   "outputs": [],
   "source": [
    "import plotly.express as px\n",
    "\n",
    "px.scatter(iris_dataframe, x='sepal length (cm)', y='sepal width (cm)', color='labels_name')"
   ]
  },
  {
   "cell_type": "code",
   "execution_count": null,
   "id": "9b290828-cd88-4109-adeb-9860abcab285",
   "metadata": {},
   "outputs": [],
   "source": [
    "px.scatter_3d(iris_dataframe, x='petal length (cm)', y='sepal length (cm)', z='sepal width (cm)', color='labels_name')"
   ]
  },
  {
   "cell_type": "code",
   "execution_count": null,
   "id": "7ca69140-abe4-4165-b145-f88625efc09c",
   "metadata": {},
   "outputs": [],
   "source": [
    "pca = PCA(2)\n",
    "pca.fit(dataset['data'])\n",
    "\n",
    "new_features = pca.transform(dataset['data'])  # fit and transfrom can be done in one step\n",
    "iris_dataframe['pca1'] = new_features[:, 0]\n",
    "iris_dataframe['pca2'] = new_features[:, 1]\n",
    "iris_dataframe"
   ]
  },
  {
   "cell_type": "code",
   "execution_count": null,
   "id": "a51fe623-a4c1-4d20-9a49-d4c0ea45ca48",
   "metadata": {},
   "outputs": [],
   "source": [
    "px.scatter(iris_dataframe, x='pca1', y='pca2', color='labels_name')"
   ]
  },
  {
   "cell_type": "code",
   "execution_count": null,
   "id": "7f4c71b2-b0d3-471f-b6c6-e3c995f34f7b",
   "metadata": {},
   "outputs": [],
   "source": [
    "import numpy as np\n",
    "x = np.linspace(1, 10, 10)\n",
    "print(x)\n",
    "x_train, x_test = train_test_split(x)\n",
    "x_train2, x_test2  = train_test_split(x)\n",
    "x_train, x_test"
   ]
  },
  {
   "cell_type": "code",
   "execution_count": null,
   "id": "bf0cea88-2680-4b59-8341-24ffa9e29514",
   "metadata": {},
   "outputs": [],
   "source": [
    "x_train2, x_test2"
   ]
  },
  {
   "cell_type": "code",
   "execution_count": null,
   "id": "fb354fa0-b7d0-42d5-a109-aee7b4a58513",
   "metadata": {},
   "outputs": [],
   "source": [
    "# random forest on full data\n",
    "train_x, test_x, train_labels, test_labels, train_pca_x, test_pca_x = train_test_split(dataset['data'],\n",
    "                                                                                       dataset['target'],\n",
    "                                                                                       new_features)"
   ]
  },
  {
   "cell_type": "code",
   "execution_count": null,
   "id": "87c54c64-d548-4ca1-aec1-b127db293683",
   "metadata": {},
   "outputs": [],
   "source": []
  },
  {
   "cell_type": "code",
   "execution_count": null,
   "id": "ce6603b5-343b-4940-b3e6-4f9cbe85163a",
   "metadata": {},
   "outputs": [],
   "source": [
    "classifier = RandomForestClassifier()\n",
    "classifier.fit(train_x, train_labels)\n",
    "predictions = classifier.predict(test_x)\n",
    "\n",
    "#print(classification_report(test_labels, predictions))\n",
    "\n",
    "\n",
    "classifier = RandomForestClassifier()\n",
    "classifier.fit(train_pca_x, train_labels)\n",
    "predictions = classifier.predict(test_pca_x)\n",
    "\n",
    "#print(classification_report(test_labels, predictions))"
   ]
  },
  {
   "cell_type": "code",
   "execution_count": null,
   "id": "99372e9e-fbbe-4ebf-9554-df3906a336ba",
   "metadata": {},
   "outputs": [],
   "source": [
    "from sklearn import tree"
   ]
  },
  {
   "cell_type": "code",
   "execution_count": null,
   "id": "6eb80c4e-b520-4dcd-80ce-25f84158a6a1",
   "metadata": {},
   "outputs": [],
   "source": [
    "#plt.figure(figsize=(20, 20))\n",
    "#_ = tree.plot_tree(classifier.estimators_[1], feature_names=['pca1', 'pca2'], filled=True)\n",
    "#plt.show()"
   ]
  },
  {
   "cell_type": "code",
   "execution_count": null,
   "id": "e9f2f479-6cab-4979-90c3-4347514c7530",
   "metadata": {},
   "outputs": [],
   "source": [
    "pca.explained_variance_ratio_, pca.singular_values_"
   ]
  },
  {
   "cell_type": "markdown",
   "id": "2524689f",
   "metadata": {},
   "source": [
    "# Visualize very very large features spaces with TSNE\n",
    "\n",
    "- Load the mnist dataset\n",
    "- Take a small subset of the dataset to experiment with \n",
    "(maybe 1000 images, but you can play with it)\n",
    "- Try to visualize the first two PCA components?\n",
    "- Are the class well separated?\n",
    "- If not, try to use TSNE instead\n",
    "- Better? :)\n",
    "- PCA(784) plot pca.explained_variance_ratio_, pca.singular_values_\n",
    "\n",
    "Part 2\n",
    "- If you have time left, try to use the Kmeans cluster to get a clean separation between classes."
   ]
  },
  {
   "cell_type": "code",
   "execution_count": null,
   "id": "7fe31916",
   "metadata": {},
   "outputs": [],
   "source": [
    "from sklearn.datasets import fetch_openml\n",
    "import matplotlib.pyplot as plt\n",
    "from sklearn.manifold import TSNE\n",
    "from sklearn.cluster import KMeans\n",
    "\n",
    "mnist = fetch_openml('mnist_784', return_X_y=True) # takes a while becasue it has to download the data"
   ]
  },
  {
   "cell_type": "code",
   "execution_count": null,
   "id": "efcf3c9d-27d2-4cc5-addd-c7685526b04e",
   "metadata": {},
   "outputs": [],
   "source": [
    "mnist[0]"
   ]
  },
  {
   "cell_type": "code",
   "execution_count": null,
   "id": "dde7a9fb",
   "metadata": {},
   "outputs": [],
   "source": [
    "image_sample = mnist[0].iloc[2].to_numpy()\n",
    "plt.figure(figsize=(5, 5))\n",
    "plt.imshow(image_sample.reshape(28, 28), cmap='gray')\n",
    "plt.show()"
   ]
  },
  {
   "cell_type": "code",
   "execution_count": null,
   "id": "60decbab",
   "metadata": {},
   "outputs": [],
   "source": [
    "dataset_size = 5000\n",
    "dataset, labels = mnist[0].to_numpy()[:dataset_size], mnist[1].to_numpy().astype('int64')[:dataset_size]\n",
    "\n",
    "print(f'Dataset is of shape: {dataset.shape}')"
   ]
  },
  {
   "cell_type": "code",
   "execution_count": null,
   "id": "e6a68e10",
   "metadata": {},
   "outputs": [],
   "source": [
    "from sklearn.decomposition import PCA\n",
    "pca = PCA(784)\n",
    "new_features = pca.fit_transform(dataset)"
   ]
  },
  {
   "cell_type": "code",
   "execution_count": null,
   "id": "43758651-0eea-43fc-aa3f-6b0913dd7614",
   "metadata": {},
   "outputs": [],
   "source": [
    "px.line(y=pca.explained_variance_ratio_)"
   ]
  },
  {
   "cell_type": "code",
   "execution_count": null,
   "id": "8cdd4536-e3d1-4700-b7d9-1cb79d36a8b6",
   "metadata": {},
   "outputs": [],
   "source": [
    "random_colors_array = np.random.rand(10, 3)\n",
    "plt.scatter(new_features[:, 0], new_features[:, 1], c=random_colors_array[labels])"
   ]
  },
  {
   "cell_type": "code",
   "execution_count": null,
   "id": "eff2761d-99ad-43c0-9141-d47032500201",
   "metadata": {},
   "outputs": [],
   "source": [
    "from matplotlib.colors import ListedColormap\n",
    "random_colors_array = np.random.rand(10, 3)\n",
    "color_map = ListedColormap(random_colors_array)\n",
    "\n",
    "plt.scatter(new_features[:, 0], new_features[:, 1], c=labels, cmap=color_map)\n",
    "plt.colorbar()"
   ]
  },
  {
   "cell_type": "code",
   "execution_count": null,
   "id": "6f65efeb-a439-4cf0-a58f-fa2c5ae8bf39",
   "metadata": {},
   "outputs": [],
   "source": [
    "random_colors_array = np.random.rand(10)\n",
    "plt.scatter(new_features[:, 0], new_features[:, 1], c=random_colors_array[labels])"
   ]
  },
  {
   "cell_type": "code",
   "execution_count": null,
   "id": "04b652fa-6db8-4e88-99f3-ae5880f71c3b",
   "metadata": {},
   "outputs": [],
   "source": [
    "px.scatter(x=new_features[:, 0], y=new_features[:, 1], color=labels.astype('str'))"
   ]
  },
  {
   "cell_type": "code",
   "execution_count": null,
   "id": "d588539a",
   "metadata": {},
   "outputs": [],
   "source": [
    "tsne = TSNE(2, learning_rate='auto')\n",
    "new_features = tsne.fit_transform(dataset)"
   ]
  },
  {
   "cell_type": "code",
   "execution_count": null,
   "id": "9abe7391-187f-4fe4-924a-7ac4b873bdea",
   "metadata": {},
   "outputs": [],
   "source": [
    "px.scatter(x=new_features[:, 0], y=new_features[:, 1], color=labels.astype(str))"
   ]
  },
  {
   "cell_type": "code",
   "execution_count": null,
   "id": "be3aaf6b",
   "metadata": {},
   "outputs": [],
   "source": [
    "kmeans = KMeans(10)\n",
    "predictions = kmeans.fit_predict(dataset)\n",
    "\n",
    "kmeans = KMeans(10)\n",
    "new_predictions = kmeans.fit_predict(new_features)"
   ]
  },
  {
   "cell_type": "code",
   "execution_count": null,
   "id": "5c4ec85c-6486-477a-80dc-cf281dadf4c1",
   "metadata": {},
   "outputs": [],
   "source": [
    "px.scatter(x=new_features[:, 0], \n",
    "           y=new_features[:, 1],\n",
    "           color=new_predictions.astype('str'))"
   ]
  },
  {
   "cell_type": "code",
   "execution_count": null,
   "id": "3bc989e7-838a-4556-998c-cbd6a47e5d79",
   "metadata": {},
   "outputs": [],
   "source": [
    "from sklearn.metrics import rand_score"
   ]
  },
  {
   "cell_type": "code",
   "execution_count": null,
   "id": "137ec8c4-3bb0-4beb-992c-a5a27b97afa9",
   "metadata": {},
   "outputs": [],
   "source": [
    "print('KMeans on full dimensionality', rand_score(labels, predictions))\n",
    "print('KMeans on 2 dim TSNE         ', rand_score(labels, new_predictions))"
   ]
  },
  {
   "cell_type": "code",
   "execution_count": null,
   "id": "3cb15158-f536-437c-ada3-dbdcd1c2492e",
   "metadata": {},
   "outputs": [],
   "source": []
  }
 ],
 "metadata": {
  "kernelspec": {
   "display_name": "Python 3 (ipykernel)",
   "language": "python",
   "name": "python3"
  },
  "language_info": {
   "codemirror_mode": {
    "name": "ipython",
    "version": 3
   },
   "file_extension": ".py",
   "mimetype": "text/x-python",
   "name": "python",
   "nbconvert_exporter": "python",
   "pygments_lexer": "ipython3",
   "version": "3.10.4"
  }
 },
 "nbformat": 4,
 "nbformat_minor": 5
}
