{
 "cells": [
  {
   "cell_type": "markdown",
   "id": "9081fec8",
   "metadata": {},
   "source": [
    "# Pandas \n",
    "\n",
    "### Very briefly \n",
    "\n",
    "https://pandas.pydata.org/docs/reference/frame.html"
   ]
  },
  {
   "cell_type": "code",
   "execution_count": null,
   "id": "87eba090",
   "metadata": {},
   "outputs": [],
   "source": [
    "import pandas as pd"
   ]
  },
  {
   "cell_type": "code",
   "execution_count": null,
   "id": "7b75d277",
   "metadata": {},
   "outputs": [],
   "source": [
    "lorenz_df = pd.read_csv('./lorenz.csv')"
   ]
  },
  {
   "cell_type": "code",
   "execution_count": null,
   "id": "be7ef6b4",
   "metadata": {},
   "outputs": [],
   "source": [
    "lorenz_df"
   ]
  },
  {
   "cell_type": "code",
   "execution_count": null,
   "id": "51198178",
   "metadata": {},
   "outputs": [],
   "source": [
    "del lorenz_df['Unnamed: 0']"
   ]
  },
  {
   "cell_type": "code",
   "execution_count": null,
   "id": "082dc676",
   "metadata": {
    "scrolled": true
   },
   "outputs": [],
   "source": [
    "lorenz_df"
   ]
  },
  {
   "cell_type": "code",
   "execution_count": null,
   "id": "d564ba25",
   "metadata": {},
   "outputs": [],
   "source": [
    "mask = lorenz_df.sigma == 10\n",
    "lorenz_df[mask].x.plot()"
   ]
  },
  {
   "cell_type": "code",
   "execution_count": null,
   "id": "5b364697",
   "metadata": {},
   "outputs": [],
   "source": [
    "lorenz_df.x.mean(), lorenz_df.x.std()"
   ]
  },
  {
   "cell_type": "code",
   "execution_count": null,
   "id": "5db37ae2",
   "metadata": {},
   "outputs": [],
   "source": [
    "lorenz_df.describe()"
   ]
  },
  {
   "cell_type": "code",
   "execution_count": null,
   "id": "e9dfbf7b",
   "metadata": {
    "scrolled": true
   },
   "outputs": [],
   "source": [
    "for i, value in lorenz_df.iterrows():\n",
    "    print(i, value.sigma, value.x, value.y, value.z)\n",
    "    break"
   ]
  },
  {
   "cell_type": "markdown",
   "id": "2f59f03f",
   "metadata": {},
   "source": [
    "## Plotly (with data frame)\n",
    "\n",
    "https://plotly.com/python/"
   ]
  },
  {
   "cell_type": "code",
   "execution_count": null,
   "id": "7f511bea",
   "metadata": {},
   "outputs": [],
   "source": [
    "import plotly.express as px      # nice by default minimal code required\n",
    "\n",
    "\n",
    "import plotly.graph_objects as go  # ok by default a bit more code required compared to matplotlib\n",
    "\n",
    "\n",
    "# Dash from same company as plotly - Maximum flexibility / a lot of code to write"
   ]
  },
  {
   "cell_type": "code",
   "execution_count": null,
   "id": "b053edc3",
   "metadata": {},
   "outputs": [],
   "source": []
  },
  {
   "cell_type": "markdown",
   "id": "a9d8fd13",
   "metadata": {},
   "source": [
    "# Machine Learning in Python\n",
    "\n",
    "### (without theory)\n",
    "\n",
    "My pick:\n",
    "- shallow machine learning: https://scikit-learn.org/stable/index.html\n",
    "- deeplearning: https://pytorch.org/\n",
    "- "
   ]
  },
  {
   "cell_type": "markdown",
   "id": "39b49068",
   "metadata": {},
   "source": [
    "## Sklearn \n",
    "\n",
    "\n",
    "https://scikit-learn.org/stable/index.html"
   ]
  },
  {
   "cell_type": "markdown",
   "id": "864f17df",
   "metadata": {},
   "source": [
    "# Create a random dataset "
   ]
  },
  {
   "cell_type": "code",
   "execution_count": null,
   "id": "527e7ae8",
   "metadata": {},
   "outputs": [],
   "source": [
    "import numpy as np\n",
    "import matplotlib.pyplot as plt\n",
    "\n",
    "\n",
    "def create_random_class(class_id, std, offset, number_sample=500):\n",
    "    data = std * np.random.randn(number_sample, 2) + offset\n",
    "    data_df = pd.DataFrame({'x': data[:, 0],\n",
    "                            'y': data[:, 1],\n",
    "                            'label': int(class_id)})\n",
    "    return data_df\n",
    "\n",
    "std1, offset1 = 1, np.array([1.5, 0])\n",
    "std2, offset2 = 1, np.array([-1.5, 0])\n",
    "\n",
    "# Train Data\n",
    "data_df1 = create_random_class(1, std1, offset1)\n",
    "data_df2 = create_random_class(2, std2, offset2)\n",
    "\n",
    "dataset = pd.concat([data_df1, data_df2])\n",
    "dataset = dataset.sample(frac=1) #shuffle\n",
    "\n",
    "# Test data \n",
    "data_df1 = create_random_class(1, std1, offset1)\n",
    "data_df2 = create_random_class(2, std2, offset2)\n",
    "\n",
    "test_dataset = pd.concat([data_df1, data_df2])"
   ]
  },
  {
   "cell_type": "code",
   "execution_count": null,
   "id": "64285dac",
   "metadata": {},
   "outputs": [],
   "source": [
    "dataset.label = dataset.label.astype('str')\n",
    "fig = px.scatter(dataset, x='x', y='y', color='label')\n",
    "fig.show()\n",
    "dataset.label = dataset.label.astype('int64')\n"
   ]
  },
  {
   "cell_type": "code",
   "execution_count": null,
   "id": "50cd4ba5",
   "metadata": {},
   "outputs": [],
   "source": [
    "from sklearn import neighbors\n",
    "\n",
    "x_train = dataset[['x', 'y']].to_numpy()\n",
    "y_train = dataset['label'].to_numpy()\n",
    "\n",
    "classifier = neighbors.KNeighborsClassifier(10)\n",
    "classifier.fit(x_train, y_train)"
   ]
  },
  {
   "cell_type": "code",
   "execution_count": null,
   "id": "2befad2d",
   "metadata": {},
   "outputs": [],
   "source": [
    "x_test = test_dataset[['x', 'y']].to_numpy()\n",
    "predictions = classifier.predict(x_test)\n",
    "\n",
    "np.sum(predictions == test_dataset.label)/len(predictions)"
   ]
  },
  {
   "cell_type": "code",
   "execution_count": null,
   "id": "1f7f0f15",
   "metadata": {},
   "outputs": [],
   "source": [
    "# Evaluation"
   ]
  },
  {
   "cell_type": "code",
   "execution_count": null,
   "id": "86dc9a93",
   "metadata": {},
   "outputs": [],
   "source": [
    "from sklearn.metrics import classification_report, ConfusionMatrixDisplay, confusion_matrix\n",
    "print(classification_report(test_dataset.label, predictions))"
   ]
  },
  {
   "cell_type": "code",
   "execution_count": null,
   "id": "a76c0408",
   "metadata": {},
   "outputs": [],
   "source": [
    "display = ConfusionMatrixDisplay(confusion_matrix(test_dataset.label, predictions))\n",
    "display.plot()\n"
   ]
  },
  {
   "cell_type": "code",
   "execution_count": null,
   "id": "ca6f6b60",
   "metadata": {},
   "outputs": [],
   "source": [
    "# Sampe API for all classifiers\n",
    "\n",
    "from sklearn import svm\n",
    "classifier = svm.SVC()\n",
    "classifier.fit(x_train, y_train)\n",
    "\n",
    "x_test = test_dataset[['x', 'y']].to_numpy()\n",
    "predictions = classifier.predict(x_test)\n",
    "\n",
    "print(classification_report(test_dataset.label, predictions))"
   ]
  },
  {
   "cell_type": "markdown",
   "id": "a8a74961",
   "metadata": {},
   "source": [
    "# Regression"
   ]
  },
  {
   "cell_type": "code",
   "execution_count": null,
   "id": "8d41816e",
   "metadata": {},
   "outputs": [],
   "source": [
    "x = np.linspace(-1, 2, 100)\n",
    "y = 2 * x + 1\n",
    "plt.plot(x, y)"
   ]
  },
  {
   "cell_type": "code",
   "execution_count": null,
   "id": "46bfc5d3",
   "metadata": {},
   "outputs": [],
   "source": [
    "noise = 0.2\n",
    "num_outiliers = 0\n",
    "noise_outiliers = 2\n",
    "\n",
    "x = np.linspace(-1, 2, 100)\n",
    "y = 2 * x + 1\n",
    "y += np.random.randn(100) * noise\n",
    "\n",
    "ourliers = np.random.choice(100, replace=False, size=(num_outiliers))\n",
    "y[ourliers] += np.random.randn(num_outiliers) * noise_outiliers\n",
    "\n",
    "plt.scatter(x, y)"
   ]
  },
  {
   "cell_type": "code",
   "execution_count": null,
   "id": "ba0b14b2",
   "metadata": {},
   "outputs": [],
   "source": [
    "from sklearn import linear_model\n",
    "reg = linear_model.LinearRegression()\n",
    "reg.fit(x[:, None], y)\n",
    "reg.coef_[0], reg.intercept_"
   ]
  },
  {
   "cell_type": "markdown",
   "id": "e324a430",
   "metadata": {},
   "source": [
    "# Skimage"
   ]
  },
  {
   "cell_type": "code",
   "execution_count": null,
   "id": "97d46359",
   "metadata": {},
   "outputs": [],
   "source": [
    "from skimage import data"
   ]
  },
  {
   "cell_type": "code",
   "execution_count": null,
   "id": "0989eebd",
   "metadata": {},
   "outputs": [],
   "source": [
    "image = data.astronaut()\n",
    "plt.imshow(image)"
   ]
  },
  {
   "cell_type": "code",
   "execution_count": null,
   "id": "ab9fe755",
   "metadata": {},
   "outputs": [],
   "source": [
    "from skimage.color import rgb2gray\n",
    "image_gray = rgb2gray(image)"
   ]
  },
  {
   "cell_type": "markdown",
   "id": "aba2214d",
   "metadata": {},
   "source": [
    "# Filters"
   ]
  },
  {
   "cell_type": "code",
   "execution_count": null,
   "id": "bdbc9309",
   "metadata": {},
   "outputs": [],
   "source": [
    "from skimage.filters import gaussian, sobel, sobel_v, sobel_h\n",
    "\n",
    "plt.title('Smoothing')\n",
    "plt.imshow(gaussian(image, 3, channel_axis=2))\n",
    "plt.show()\n",
    "\n",
    "plt.title('Edges')\n",
    "plt.imshow(sobel(image_gray))\n",
    "plt.show()\n",
    "\n",
    "\n",
    "plt.title('Edges horizontal')\n",
    "plt.imshow(sobel_h(image_gray))\n",
    "plt.show()\n",
    "\n",
    "plt.title('Edges vertical')\n",
    "plt.imshow(sobel_v(image_gray))\n",
    "plt.show()"
   ]
  },
  {
   "cell_type": "code",
   "execution_count": null,
   "id": "ba819ec6",
   "metadata": {},
   "outputs": [],
   "source": []
  }
 ],
 "metadata": {
  "kernelspec": {
   "display_name": "Python 3 (ipykernel)",
   "language": "python",
   "name": "python3"
  },
  "language_info": {
   "codemirror_mode": {
    "name": "ipython",
    "version": 3
   },
   "file_extension": ".py",
   "mimetype": "text/x-python",
   "name": "python",
   "nbconvert_exporter": "python",
   "pygments_lexer": "ipython3",
   "version": "3.10.4"
  }
 },
 "nbformat": 4,
 "nbformat_minor": 5
}
