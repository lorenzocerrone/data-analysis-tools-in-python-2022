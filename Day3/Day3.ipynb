{
 "cells": [
  {
   "cell_type": "markdown",
   "id": "9081fec8",
   "metadata": {},
   "source": [
    "# Pandas \n",
    "\n",
    "### Very briefly \n",
    "\n",
    "https://pandas.pydata.org/docs/reference/frame.html"
   ]
  },
  {
   "cell_type": "code",
   "execution_count": null,
   "id": "87eba090",
   "metadata": {
    "tags": []
   },
   "outputs": [],
   "source": [
    "import pandas as pd"
   ]
  },
  {
   "cell_type": "code",
   "execution_count": null,
   "id": "7b75d277",
   "metadata": {
    "tags": []
   },
   "outputs": [],
   "source": [
    "lorenz_df = pd.read_csv('./data/lorenz.csv')"
   ]
  },
  {
   "cell_type": "code",
   "execution_count": null,
   "id": "be7ef6b4",
   "metadata": {
    "tags": []
   },
   "outputs": [],
   "source": [
    "lorenz_df"
   ]
  },
  {
   "cell_type": "code",
   "execution_count": null,
   "id": "51198178",
   "metadata": {
    "tags": []
   },
   "outputs": [],
   "source": [
    "del lorenz_df['Unnamed: 0']"
   ]
  },
  {
   "cell_type": "code",
   "execution_count": null,
   "id": "082dc676",
   "metadata": {
    "scrolled": true,
    "tags": []
   },
   "outputs": [],
   "source": [
    "lorenz_df"
   ]
  },
  {
   "cell_type": "code",
   "execution_count": null,
   "id": "d564ba25",
   "metadata": {
    "tags": []
   },
   "outputs": [],
   "source": [
    "mask = lorenz_df.sigma == 10\n",
    "lorenz_df[mask].x.plot()"
   ]
  },
  {
   "cell_type": "code",
   "execution_count": null,
   "id": "5b364697",
   "metadata": {
    "tags": []
   },
   "outputs": [],
   "source": [
    "import numpy as np\n",
    "lorenz_df.x.mean(), lorenz_df.x.std()\n",
    "np.mean(lorenz_df.x)"
   ]
  },
  {
   "cell_type": "code",
   "execution_count": null,
   "id": "5db37ae2",
   "metadata": {
    "tags": []
   },
   "outputs": [],
   "source": [
    "lorenz_df.describe()"
   ]
  },
  {
   "cell_type": "code",
   "execution_count": null,
   "id": "e9dfbf7b",
   "metadata": {
    "scrolled": true,
    "tags": []
   },
   "outputs": [],
   "source": [
    "for i, value in lorenz_df.iterrows():\n",
    "    print(i, value.sigma, value.x, value.y, value.z)\n",
    "    break"
   ]
  },
  {
   "cell_type": "code",
   "execution_count": null,
   "id": "3f618ccf-1e4e-4f32-9061-1dea73fe9221",
   "metadata": {},
   "outputs": [],
   "source": [
    "# 1 \n",
    "df1 = pd.DataFrame({'contry': ['germany', 'italy', 'uk'], \n",
    "              'continent': 'europe',\n",
    "              'currency': ['euro', 'euro', 'pound']})"
   ]
  },
  {
   "cell_type": "code",
   "execution_count": null,
   "id": "b99755a8-511a-4f8e-9b47-2fdbfa5e72a9",
   "metadata": {},
   "outputs": [],
   "source": [
    "list_dict = [{'contry': 'Germany', 'continent': 'europe'},\n",
    "                   {'contry': 'Germany', 'continent': 'europe'},\n",
    "                  {'contry': 'Germany', 'continent': 'europe'}]\n",
    "df2 = pd.DataFrame().from_records(list_dict)\n",
    "\n",
    "pd.concat([df1, df2])"
   ]
  },
  {
   "cell_type": "markdown",
   "id": "2f59f03f",
   "metadata": {},
   "source": [
    "## Plotly (with data frame)\n",
    "\n",
    "https://plotly.com/python/"
   ]
  },
  {
   "cell_type": "code",
   "execution_count": null,
   "id": "7f511bea",
   "metadata": {
    "tags": []
   },
   "outputs": [],
   "source": [
    "import plotly.express as px      # nice by default minimal code required\n",
    "\n",
    "\n",
    "import plotly.graph_objects as go  # ok by default a bit more code required compared to matplotlib\n",
    "\n",
    "\n",
    "# Dash from same company as plotly - Maximum flexibility / a lot of code to write"
   ]
  },
  {
   "cell_type": "code",
   "execution_count": null,
   "id": "b053edc3",
   "metadata": {
    "tags": []
   },
   "outputs": [],
   "source": [
    "px.line(lorenz_df, x='t', y='x', color='sigma')"
   ]
  },
  {
   "cell_type": "code",
   "execution_count": null,
   "id": "44f45576-a612-4b4a-a591-77e0875cb9a9",
   "metadata": {},
   "outputs": [],
   "source": [
    "px.line(x=lorenz_df['t'], y=lorenz_df['x'], color=lorenz_df['sigma'])"
   ]
  },
  {
   "cell_type": "code",
   "execution_count": null,
   "id": "396986e4-654b-47c8-9a32-c3453b5b1883",
   "metadata": {},
   "outputs": [],
   "source": [
    "px.line_3d(lorenz_df, x='x', y='y', z='z', color='sigma')"
   ]
  },
  {
   "cell_type": "markdown",
   "id": "a9d8fd13",
   "metadata": {},
   "source": [
    "# Machine Learning in Python\n",
    "\n",
    "### (without theory)\n",
    "\n",
    "My pick:\n",
    "- shallow machine learning: https://scikit-learn.org/stable/index.html\n",
    "- deeplearning: https://pytorch.org/\n",
    "- image processing: https://scikit-image.org/"
   ]
  },
  {
   "cell_type": "markdown",
   "id": "39b49068",
   "metadata": {},
   "source": [
    "## Sklearn \n",
    "\n",
    "\n",
    "https://scikit-learn.org/stable/index.html"
   ]
  },
  {
   "cell_type": "markdown",
   "id": "864f17df",
   "metadata": {},
   "source": [
    "# Create a random dataset "
   ]
  },
  {
   "cell_type": "code",
   "execution_count": null,
   "id": "527e7ae8",
   "metadata": {
    "tags": []
   },
   "outputs": [],
   "source": [
    "import numpy as np\n",
    "import matplotlib.pyplot as plt\n",
    "\n",
    "def create_random_class(class_id, std, offset, number_sample=500):\n",
    "    data = std * np.random.randn(number_sample, 2) + offset\n",
    "    data_df = pd.DataFrame({'x': data[:, 0],\n",
    "                            'y': data[:, 1],\n",
    "                            'label': int(class_id)})\n",
    "    return data_df\n",
    "\n",
    "std1, offset1 = 0.5, np.array([1.5, 0])\n",
    "std2, offset2 = 2.0, np.array([-2, 0])\n",
    "\n",
    "# Train Data\n",
    "data_df1 = create_random_class(1, std1, offset1)\n",
    "data_df2 = create_random_class(2, std2, offset2)\n",
    "\n",
    "dataset = pd.concat([data_df1, data_df2])\n",
    "dataset = dataset.sample(frac=1) #shuffle\n",
    "\n",
    "# Test data \n",
    "data_df1 = create_random_class(1, std1, offset1)\n",
    "data_df2 = create_random_class(2, std2, offset2)\n",
    "\n",
    "test_dataset = pd.concat([data_df1, data_df2])"
   ]
  },
  {
   "cell_type": "code",
   "execution_count": null,
   "id": "64285dac",
   "metadata": {
    "tags": []
   },
   "outputs": [],
   "source": [
    "dataset.label = dataset.label.astype('str')\n",
    "fig = px.scatter(dataset, x='x', y='y', color='label')\n",
    "fig.show()\n",
    "dataset.label = dataset.label.astype('int64')\n"
   ]
  },
  {
   "cell_type": "code",
   "execution_count": null,
   "id": "792a967b-7454-44b0-a5e4-fa2694f2fb26",
   "metadata": {},
   "outputs": [],
   "source": [
    "data = dataset[['x', 'y']].to_numpy()\n",
    "data.shape"
   ]
  },
  {
   "cell_type": "code",
   "execution_count": null,
   "id": "50cd4ba5",
   "metadata": {
    "tags": []
   },
   "outputs": [],
   "source": [
    "from sklearn import neighbors\n",
    "\n",
    "x_train = dataset[['x', 'y']].to_numpy()\n",
    "y_train = dataset['label'].to_numpy()\n",
    "\n",
    "\n",
    "classifier = neighbors.KNeighborsClassifier(n_neighbors=10)\n",
    "classifier.fit(x_train, y_train)"
   ]
  },
  {
   "cell_type": "code",
   "execution_count": null,
   "id": "2befad2d",
   "metadata": {
    "tags": []
   },
   "outputs": [],
   "source": [
    "x_test = test_dataset[['x', 'y']].to_numpy()\n",
    "\n",
    "predictions = classifier.predict(x_test)\n",
    "\n",
    "np.sum(predictions == test_dataset.label)/len(predictions)"
   ]
  },
  {
   "cell_type": "markdown",
   "id": "09b7bafe-da72-40fd-9f23-ae061cee3dc7",
   "metadata": {
    "tags": []
   },
   "source": [
    "# Evaluation"
   ]
  },
  {
   "cell_type": "code",
   "execution_count": null,
   "id": "86dc9a93",
   "metadata": {
    "tags": []
   },
   "outputs": [],
   "source": [
    "from sklearn.metrics import classification_report, ConfusionMatrixDisplay, confusion_matrix\n",
    "print(classification_report(test_dataset.label, predictions))"
   ]
  },
  {
   "cell_type": "code",
   "execution_count": null,
   "id": "a76c0408",
   "metadata": {
    "tags": []
   },
   "outputs": [],
   "source": [
    "display = ConfusionMatrixDisplay(confusion_matrix(test_dataset.label, predictions))\n",
    "display.plot()"
   ]
  },
  {
   "cell_type": "code",
   "execution_count": null,
   "id": "ca6f6b60",
   "metadata": {
    "tags": []
   },
   "outputs": [],
   "source": [
    "# Sampe API for all classifiers\n",
    "\n",
    "from sklearn import svm\n",
    "classifier = svm.SVC()\n",
    "classifier.fit(x_train, y_train)\n",
    "\n",
    "x_test = test_dataset[['x', 'y']].to_numpy()\n",
    "predictions = classifier.predict(x_test)\n",
    "\n",
    "print(classification_report(test_dataset.label, predictions))"
   ]
  },
  {
   "cell_type": "markdown",
   "id": "a8a74961",
   "metadata": {},
   "source": [
    "# Regression"
   ]
  },
  {
   "cell_type": "code",
   "execution_count": null,
   "id": "8d41816e",
   "metadata": {
    "tags": []
   },
   "outputs": [],
   "source": [
    "x = np.linspace(-1, 2, 100)\n",
    "y = 2 * x + 1\n",
    "plt.plot(x, y)"
   ]
  },
  {
   "cell_type": "code",
   "execution_count": null,
   "id": "46bfc5d3",
   "metadata": {
    "tags": []
   },
   "outputs": [],
   "source": [
    "noise = 0.2\n",
    "num_outiliers = 10\n",
    "noise_outiliers = 50\n",
    "\n",
    "x = np.linspace(-1, 2, 100)\n",
    "y = 2 * x + 1\n",
    "y += np.random.randn(100) * noise\n",
    "\n",
    "ourliers = np.random.choice(100, replace=False, size=(num_outiliers))\n",
    "y[ourliers] += np.random.randn(num_outiliers) * noise_outiliers\n",
    "\n",
    "plt.scatter(x, y)"
   ]
  },
  {
   "cell_type": "code",
   "execution_count": null,
   "id": "b7fbb927-de84-494e-a44f-9a2b4bf7eeb8",
   "metadata": {},
   "outputs": [],
   "source": [
    "x[:, None].shape"
   ]
  },
  {
   "cell_type": "code",
   "execution_count": null,
   "id": "ba0b14b2",
   "metadata": {
    "tags": []
   },
   "outputs": [],
   "source": [
    "from sklearn import linear_model\n",
    "reg = linear_model.LinearRegression()\n",
    "reg.fit(x[:, None], y)\n",
    "reg.coef_[0], reg.intercept_"
   ]
  },
  {
   "cell_type": "code",
   "execution_count": null,
   "id": "1e8ecdbf-1ea4-45b6-9f1d-ace436c2e3f7",
   "metadata": {},
   "outputs": [],
   "source": [
    "from sklearn import linear_model\n",
    "reg = linear_model.HuberRegressor()\n",
    "reg.fit(x[:, None], y)\n",
    "reg.coef_[0], reg.intercept_"
   ]
  },
  {
   "cell_type": "markdown",
   "id": "e324a430",
   "metadata": {},
   "source": [
    "# Skimage"
   ]
  },
  {
   "cell_type": "code",
   "execution_count": null,
   "id": "97d46359",
   "metadata": {
    "tags": []
   },
   "outputs": [],
   "source": [
    "from skimage import data"
   ]
  },
  {
   "cell_type": "code",
   "execution_count": null,
   "id": "0989eebd",
   "metadata": {
    "tags": []
   },
   "outputs": [],
   "source": [
    "image = data.astronaut()\n",
    "plt.imshow(image)"
   ]
  },
  {
   "cell_type": "code",
   "execution_count": null,
   "id": "ab9fe755",
   "metadata": {
    "tags": []
   },
   "outputs": [],
   "source": [
    "from skimage.color import rgb2gray\n",
    "image_gray = rgb2gray(image)\n",
    "plt.imshow(image_gray, cmap='gray')"
   ]
  },
  {
   "cell_type": "markdown",
   "id": "aba2214d",
   "metadata": {},
   "source": [
    "# Filters"
   ]
  },
  {
   "cell_type": "code",
   "execution_count": null,
   "id": "bdbc9309",
   "metadata": {
    "tags": []
   },
   "outputs": [],
   "source": [
    "from skimage.filters import gaussian, sobel, sobel_v, sobel_h\n",
    "\n",
    "plt.title('Smoothing')\n",
    "plt.imshow(gaussian(image, 3, channel_axis=2))\n",
    "plt.show()\n",
    "\n",
    "plt.title('Edges')\n",
    "plt.imshow(sobel(image_gray))\n",
    "plt.show()\n",
    "\n",
    "\n",
    "plt.title('Edges horizontal')\n",
    "plt.imshow(sobel_h(image_gray))\n",
    "plt.show()\n",
    "\n",
    "plt.title('Edges vertical')\n",
    "plt.imshow(sobel_v(image_gray))\n",
    "plt.show()"
   ]
  },
  {
   "cell_type": "code",
   "execution_count": null,
   "id": "ba819ec6",
   "metadata": {
    "tags": []
   },
   "outputs": [],
   "source": [
    "x = np.zeros((50, 50))\n",
    "x[20:30, 20:30] = 1\n",
    "x[29:45, 29:45] = 1\n",
    "\n",
    "plt.imshow(x)"
   ]
  },
  {
   "cell_type": "code",
   "execution_count": null,
   "id": "b2af9a3b-f6f1-4d03-a652-cc6a178a4f81",
   "metadata": {},
   "outputs": [],
   "source": [
    "from skimage.morphology import disk\n",
    "from skimage.morphology import erosion, dilation, closing"
   ]
  },
  {
   "cell_type": "code",
   "execution_count": null,
   "id": "34e85b88-8280-4c57-8ace-a49a32da48e8",
   "metadata": {},
   "outputs": [],
   "source": [
    "plt.imshow(erosion(x, disk(2)))"
   ]
  },
  {
   "cell_type": "code",
   "execution_count": null,
   "id": "3bc9dc60-814c-4f2d-8adc-8cd68d9c2d9a",
   "metadata": {},
   "outputs": [],
   "source": [
    "plt.imshow(dilation(x, disk(2)))"
   ]
  },
  {
   "cell_type": "code",
   "execution_count": null,
   "id": "f0da38c6-1d5c-4ae7-9fc3-084cbfa32bc8",
   "metadata": {},
   "outputs": [],
   "source": []
  },
  {
   "cell_type": "code",
   "execution_count": null,
   "id": "b6517fe7-2d84-486d-bc09-b10759c05ed8",
   "metadata": {},
   "outputs": [],
   "source": [
    "image_gray = data.coins().astype('float64')\n",
    "image_gray =image_gray / image_gray.max()\n",
    "plt.imshow(image_gray > 0.55)\n",
    "plt.colorbar()"
   ]
  },
  {
   "cell_type": "code",
   "execution_count": null,
   "id": "f6c22f5f-2d22-4a40-b5d1-a930f6e5c471",
   "metadata": {},
   "outputs": [],
   "source": [
    "mask = image_gray > 0.55"
   ]
  },
  {
   "cell_type": "markdown",
   "id": "9065676c-9eff-4996-9795-352a3396b8fb",
   "metadata": {},
   "source": [
    "plt.imshow(closing(mask, disk(3)))"
   ]
  },
  {
   "cell_type": "code",
   "execution_count": null,
   "id": "eaa73dff-762f-4819-9ad8-23f5c2605e40",
   "metadata": {},
   "outputs": [],
   "source": [
    "from skimage.morphology import label"
   ]
  },
  {
   "cell_type": "code",
   "execution_count": null,
   "id": "0a115ea7-2a4d-45a2-9e43-cb3f5e79ed52",
   "metadata": {},
   "outputs": [],
   "source": [
    "close_mask = closing(mask, disk(3))\n",
    "plt.imshow(label(close_mask), cmap='prism', interpolation='nearest')"
   ]
  },
  {
   "cell_type": "code",
   "execution_count": null,
   "id": "793f35df-6bf8-4dbc-ad48-dbc8703a9185",
   "metadata": {},
   "outputs": [],
   "source": []
  }
 ],
 "metadata": {
  "kernelspec": {
   "display_name": "Python 3 (ipykernel)",
   "language": "python",
   "name": "python3"
  },
  "language_info": {
   "codemirror_mode": {
    "name": "ipython",
    "version": 3
   },
   "file_extension": ".py",
   "mimetype": "text/x-python",
   "name": "python",
   "nbconvert_exporter": "python",
   "pygments_lexer": "ipython3",
   "version": "3.10.4"
  }
 },
 "nbformat": 4,
 "nbformat_minor": 5
}
