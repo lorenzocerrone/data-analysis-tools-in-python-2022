{
 "cells": [
  {
   "cell_type": "markdown",
   "id": "ffe8a12e",
   "metadata": {},
   "source": [
    "# Pandas/Sklearn \"Hello world\" - Iris dataset\n",
    "\n",
    "**Part 1:**\n",
    "- Load the iris dataset from sklearn \n",
    "- Create a pandas dataframe containing the dataset \n",
    "- Try to plot two of the features using plotly scatter plot \n",
    "(just as an example, `sepal length` on the `x` axis and `sepal width` on the `y`): \n",
    "- Are the class linearly separable?\n",
    "- Now try to use the sklearn `PCA` to reduce the number of features from 4 to 2\n",
    "- Are the new features linearly separable? \n",
    "\n",
    "**Part 2:**\n",
    "- Now, you can use the train/test using `train_test_split`\n",
    "- Try to train the a classifier of your choice on your training dataset  \n",
    "(just as an example, `sklearn.ensemble.RandomForestClassifier`)\n",
    "- Measure the performance of your classifier on test data"
   ]
  },
  {
   "cell_type": "code",
   "execution_count": null,
   "id": "64b2b1d3",
   "metadata": {},
   "outputs": [],
   "source": [
    "from sklearn.datasets import load_iris\n",
    "from sklearn.decomposition import PCA\n",
    "from sklearn.model_selection import train_test_split\n",
    "from sklearn.ensemble import RandomForestClassifier\n",
    "from sklearn.metrics import classification_report, ConfusionMatrixDisplay, confusion_matrix\n",
    "dataset = load_iris(return_X_y=False, as_frame=False)\n",
    "\n",
    "# remove comment to print the dataset description\n",
    "# print(dataset['DESCR'])"
   ]
  },
  {
   "cell_type": "markdown",
   "id": "6d282193",
   "metadata": {},
   "source": [
    "# Visualize very very large features spaces with TSNE\n",
    "\n",
    "- Load the mnist dataset\n",
    "- Take a small subset of the dataset to experiment with \n",
    "(maybe 1000 images, but you can play with it)\n",
    "- Try to visualize the first two PCA components?\n",
    "- Are the class well separated?\n",
    "- If not, try to use TSNE instead\n",
    "- Better? :)\n",
    "- If you have time left, try to use the Kmeans cluster to get a clean separation between classes."
   ]
  },
  {
   "cell_type": "code",
   "execution_count": null,
   "id": "c6bb5be1",
   "metadata": {},
   "outputs": [],
   "source": [
    "from sklearn.datasets import fetch_openml\n",
    "import matplotlib.pyplot as plt\n",
    "from sklearn.manifold import TSNE\n",
    "from sklearn.cluster import KMeans\n",
    "mnist = fetch_openml('mnist_784', return_X_y=True) # takes a while becasue it has to download the data"
   ]
  },
  {
   "cell_type": "code",
   "execution_count": null,
   "id": "b2111b43",
   "metadata": {},
   "outputs": [],
   "source": [
    "image_sample = mnist[0].iloc[0].to_numpy()\n",
    "plt.imshow(image_sample.reshape(28, 28), cmap='gray')\n",
    "plt.show()"
   ]
  }
 ],
 "metadata": {
  "kernelspec": {
   "display_name": "Python 3 (ipykernel)",
   "language": "python",
   "name": "python3"
  },
  "language_info": {
   "codemirror_mode": {
    "name": "ipython",
    "version": 3
   },
   "file_extension": ".py",
   "mimetype": "text/x-python",
   "name": "python",
   "nbconvert_exporter": "python",
   "pygments_lexer": "ipython3",
   "version": "3.10.4"
  }
 },
 "nbformat": 4,
 "nbformat_minor": 5
}
