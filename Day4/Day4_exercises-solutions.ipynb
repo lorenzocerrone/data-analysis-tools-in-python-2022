{
 "cells": [
  {
   "cell_type": "markdown",
   "id": "59aacee3-1994-470c-af3f-f2941162d821",
   "metadata": {
    "tags": []
   },
   "source": [
    "# Implement the Game of Life\n",
    "\n",
    "https://en.wikipedia.org/wiki/Conway%27s_Game_of_Life\n",
    "\n",
    "https://www.youtube.com/watch?v=C2vgICfQawE\n",
    "\n",
    "\n",
    "- Initialize an empty vector of shape [100, 50, 50], where 100 is the number of steps of game of life \n",
    "dynamics and 50 x 50 is the size of the grid.\n",
    "\n",
    "- Fill the fist frame with random 0 or 1:\n",
    "    * any pixel with value 0 is dead\n",
    "    * any pixel with value 1 is alive  \n",
    "\n",
    "- The evolution rules are simple: \n",
    "    - If a pixel is alive and has 2 or 3 live neighbours survives in the next step\n",
    "    - If a pixel is dead with exaclty 3 live neighbours will become alive in the next step\n",
    "    - Any remaining alive pixel will die\n",
    "- Repeat for all pixels (loops are ok :) )\n",
    "- Repeat for all time step and watch the evolution using the `create_animation` function.\n",
    "\n",
    "Part 2: \n",
    "- Speed you your code using either numba or by vectorinzing it with numpy \n",
    "- Measure the speed up you were able to achieve "
   ]
  },
  {
   "cell_type": "code",
   "execution_count": null,
   "id": "8487da56-f463-41f5-b8f9-3bacfe9e1509",
   "metadata": {},
   "outputs": [],
   "source": [
    "import plotly.express as px\n",
    "import numpy as np\n",
    "\n",
    "def create_animation(frames, figure_size=(800, 800), frame_rate=30):\n",
    "    assert frames.ndim == 3, f\"frames shape is {frames.shape} but should be a 3 dimension tensor\"\n",
    "    fig = px.imshow(frames, animation_frame=0, color_continuous_scale='gray')\n",
    "    fig.update_coloraxes(showscale=False)\n",
    "    fig.update_xaxes(dict(visible=False))\n",
    "    fig.update_yaxes(dict(visible=False))\n",
    "    fig.update_layout(width=figure_size[0], height=figure_size[1]) # size\n",
    "    fig.layout.updatemenus[0].buttons[0].args[1]['frame']['duration'] = frame_rate # frame rate\n",
    "    fig.show()\n",
    "    \n",
    "sample_frames = np.random.randint(2, size=(100, 50, 50))\n",
    "create_animation(frames = sample_frames, frame_rate=30, figure_size=(800, 800))"
   ]
  },
  {
   "cell_type": "code",
   "execution_count": null,
   "id": "142312ac-a5ea-429d-853f-3606b4606bf3",
   "metadata": {},
   "outputs": [],
   "source": [
    "import numpy as np\n",
    "from numba import njit\n",
    "\n",
    "def update_grid(grid_in):\n",
    "    grid_out = np.zeros_like(grid_in)\n",
    "    nb_struct = np.array([[-1, -1], [-1,  0],\n",
    "                          [-1,  1], [0, -1],\n",
    "                          [0,  1],  [1, -1],\n",
    "                          [1,  0],  [1,  1]])\n",
    "    shapex, shapey = grid_out.shape\n",
    "    offset = 1\n",
    "    \n",
    "    for i in range(offset, shapex - offset):\n",
    "        for j in range(offset, shapey - offset):\n",
    "            # accumulate over the nb structure\n",
    "            n_sum, current_state = 0, grid_in[i, j]\n",
    "            for ii, jj in nb_struct:\n",
    "                n_sum += grid_in[i + ii, j + jj]\n",
    "            \n",
    "            # compact game of life rules\n",
    "            if n_sum == 3:\n",
    "                grid_out[i, j] = 1\n",
    "                \n",
    "            elif current_state == 1 and n_sum == 2:\n",
    "                grid_out[i, j] = 1\n",
    "            # since we start from zeros need to kill cells\n",
    "    return grid_out"
   ]
  },
  {
   "cell_type": "code",
   "execution_count": null,
   "id": "64105452-6a4d-4c13-a9a7-394e2f3fbb62",
   "metadata": {},
   "outputs": [],
   "source": [
    "def run_game_of_life(initial_grid, num_iterations):\n",
    "    frames = np.zeros((num_iterations,\n",
    "                       initial_grid.shape[0],\n",
    "                       initial_grid.shape[1]))\n",
    "    frames[0] = initial_grid\n",
    "\n",
    "    for i in range(1, num_iterations):\n",
    "        frames[i] = update_grid(frames[i - 1])\n",
    "    return frames"
   ]
  },
  {
   "cell_type": "code",
   "execution_count": null,
   "id": "9ac4937d-5a5f-4934-9255-efdcde8c551c",
   "metadata": {},
   "outputs": [],
   "source": [
    "%%time\n",
    "initial_grid = np.random.randint(2, size=(50, 50))\n",
    "frames = run_game_of_life(initial_grid=initial_grid, num_iterations=100)"
   ]
  },
  {
   "cell_type": "code",
   "execution_count": null,
   "id": "bffb8e2f-5bea-47e2-9ca1-5a4ce60f6be7",
   "metadata": {},
   "outputs": [],
   "source": [
    "create_animation(frames)"
   ]
  },
  {
   "cell_type": "code",
   "execution_count": null,
   "id": "fdd03d19-a9fd-4cf6-ad76-090a60a4f8fb",
   "metadata": {},
   "outputs": [],
   "source": [
    "from scipy.ndimage import convolve\n",
    "\n",
    "def update_grid_numpy(grid_in):\n",
    "    new_grid = np.zeros_like(grid_in)\n",
    "    kernel = np.ones((3, 3))\n",
    "    kernel[1, 1] = 0\n",
    "    n_counts = convolve(grid_in, kernel)\n",
    "\n",
    "    for status, test in [(1, 2), (1, 3), (0, 3)]:\n",
    "        status_cells = grid_in == status\n",
    "        counts_test = n_counts == test\n",
    "        become_alive_next_step = np.logical_and(status_cells, counts_test) # if both are true\n",
    "        new_grid[become_alive_next_step] = 1\n",
    "    \n",
    "    return new_grid\n",
    "\n",
    "def run_game_of_life_numpy(initial_grid, num_iterations):\n",
    "    frames = np.zeros((num_iterations,\n",
    "                       initial_grid.shape[0],\n",
    "                       initial_grid.shape[1]))\n",
    "    frames[0] = initial_grid\n",
    "\n",
    "    for i in range(1, num_iterations):\n",
    "        frames[i] = update_grid_numpy(frames[i - 1])\n",
    "    return frames"
   ]
  },
  {
   "cell_type": "code",
   "execution_count": null,
   "id": "30b6d6ea-3e81-42c4-b79d-cd95f39b0e8d",
   "metadata": {},
   "outputs": [],
   "source": [
    "%%time\n",
    "initial_grid = np.random.randint(2, size=(50, 50))\n",
    "frames = run_game_of_life_numpy(initial_grid=initial_grid, num_iterations=100)"
   ]
  },
  {
   "cell_type": "code",
   "execution_count": null,
   "id": "d0eca194-e18e-46fc-be1c-9336dcb121e6",
   "metadata": {},
   "outputs": [],
   "source": [
    "create_animation(frames)"
   ]
  },
  {
   "cell_type": "code",
   "execution_count": null,
   "id": "bcb3bd06-2057-492d-8325-ef7475b513ee",
   "metadata": {},
   "outputs": [],
   "source": [
    "from utils import read_rle, add_pattern\n",
    "pattern = read_rle('./data/piship1.rle')\n",
    "\n",
    "initial_grid = np.zeros((150, 150))\n",
    "initial_grid = add_pattern(initial_grid, pattern, pos=[150//2, 150//2], centered=True)\n",
    "frames = run_game_of_life(initial_grid=initial_grid, num_iterations=100)"
   ]
  },
  {
   "cell_type": "code",
   "execution_count": null,
   "id": "b913ae1d-01f7-4a51-8597-2303e120bdc1",
   "metadata": {},
   "outputs": [],
   "source": [
    "create_animation(frames)"
   ]
  },
  {
   "cell_type": "markdown",
   "id": "65c981b5-82cc-4d2f-8058-e8858a3d4ecf",
   "metadata": {},
   "source": [
    "# Tracking Highway video\n",
    "\n",
    "- Load the `highway.npy` file. It contains 500 frames of a video surveliance camera\n",
    "- Find the background by averaging all frames\n",
    "- Find the absolute difference between the frames and the background\n",
    "- threshold the result to obtain a binary mask of the cars\n",
    "- Use morphological operations to fill the holes in the masks\n",
    "- Use the label image to assign an id to each detected car"
   ]
  },
  {
   "cell_type": "code",
   "execution_count": null,
   "id": "baac0113-b2ab-4c9d-9e8e-26dfe4eca64c",
   "metadata": {},
   "outputs": [],
   "source": [
    "from skimage.morphology import erosion, dilation, closing, opening, disk, label"
   ]
  },
  {
   "cell_type": "code",
   "execution_count": null,
   "id": "d54a69ab-eeca-4487-b051-de1ad0fb9307",
   "metadata": {},
   "outputs": [],
   "source": [
    "video = np.load('./data/highway.npy')"
   ]
  },
  {
   "cell_type": "code",
   "execution_count": null,
   "id": "d512419e-ce94-47bf-8de7-422af140dbdd",
   "metadata": {},
   "outputs": [],
   "source": [
    "px.imshow(video[0], color_continuous_scale='gray')"
   ]
  },
  {
   "cell_type": "code",
   "execution_count": null,
   "id": "077ed2a2-70e4-4f9f-ad55-a4f65c7dab0d",
   "metadata": {},
   "outputs": [],
   "source": [
    "backgrond = np.mean(video, axis=0)"
   ]
  },
  {
   "cell_type": "code",
   "execution_count": null,
   "id": "1d059069-5fed-4b4f-9cf9-7c060493ccd3",
   "metadata": {},
   "outputs": [],
   "source": [
    "px.imshow(backgrond, color_continuous_scale='gray')"
   ]
  },
  {
   "cell_type": "code",
   "execution_count": null,
   "id": "07661cc2-ade8-4a53-a6dd-f3326ccecb18",
   "metadata": {},
   "outputs": [],
   "source": [
    "detections_raw = np.abs(video - backgrond)\n",
    "detections_mask = detections_raw > 0.3"
   ]
  },
  {
   "cell_type": "code",
   "execution_count": null,
   "id": "1ed06c35-9f89-4476-aa32-daeb558884e8",
   "metadata": {},
   "outputs": [],
   "source": [
    "fig = px.imshow(detections_raw[0], color_continuous_scale='gray')\n",
    "fig.show()\n",
    "fig = px.imshow(detections_mask[0], color_continuous_scale='gray')\n",
    "fig.update_layout(width=500, height=500) # size"
   ]
  },
  {
   "cell_type": "code",
   "execution_count": null,
   "id": "aa0eff2f-a8dc-43d9-a625-17bf34822f32",
   "metadata": {},
   "outputs": [],
   "source": [
    "detections_mask_refined = closing(detections_mask[0], disk(5))\n",
    "detections_mask_refined = opening(detections_mask_refined, disk(3))\n",
    "detections_labels = label(detections_mask_refined)"
   ]
  },
  {
   "cell_type": "code",
   "execution_count": null,
   "id": "7433a2b6-45fa-49f3-ae8b-81ba1dcad934",
   "metadata": {},
   "outputs": [],
   "source": [
    "px.imshow(detections_labels)"
   ]
  },
  {
   "cell_type": "code",
   "execution_count": null,
   "id": "71364423-18e4-4415-803c-935be28f7423",
   "metadata": {},
   "outputs": [],
   "source": [
    "detections_labels = []\n",
    "for mask in detections_mask:\n",
    "    detections_mask_refined = closing(mask, disk(5))\n",
    "    detections_mask_refined = opening(detections_mask_refined, disk(3))\n",
    "    d_label = label(detections_mask_refined)\n",
    "    detections_labels.append(d_label)\n",
    "detections_labels = np.array(detections_labels)"
   ]
  },
  {
   "cell_type": "code",
   "execution_count": null,
   "id": "26dac59f-f27f-4dc6-b24a-ebbba50bc665",
   "metadata": {},
   "outputs": [],
   "source": [
    "create_animation(detections_labels)"
   ]
  },
  {
   "cell_type": "code",
   "execution_count": null,
   "id": "cb5f8c3a-1d9d-47ea-b456-eeafcfbdb3ad",
   "metadata": {},
   "outputs": [],
   "source": []
  }
 ],
 "metadata": {
  "kernelspec": {
   "display_name": "Python 3 (ipykernel)",
   "language": "python",
   "name": "python3"
  },
  "language_info": {
   "codemirror_mode": {
    "name": "ipython",
    "version": 3
   },
   "file_extension": ".py",
   "mimetype": "text/x-python",
   "name": "python",
   "nbconvert_exporter": "python",
   "pygments_lexer": "ipython3",
   "version": "3.10.4"
  }
 },
 "nbformat": 4,
 "nbformat_minor": 5
}