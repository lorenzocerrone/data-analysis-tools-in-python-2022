{
 "cells": [
  {
   "cell_type": "markdown",
   "id": "beb7bcf4-7be4-492b-a7f4-c1d32cd36f99",
   "metadata": {},
   "source": [
    "# Numba\n",
    "\n",
    "https://numba.pydata.org/"
   ]
  },
  {
   "cell_type": "markdown",
   "id": "0257a851-d375-4d0b-8656-dabe6c06e079",
   "metadata": {},
   "source": [
    "# njit"
   ]
  },
  {
   "cell_type": "code",
   "execution_count": null,
   "id": "39eb8728-94d0-4ead-9b5f-96eb8ec81012",
   "metadata": {
    "tags": []
   },
   "outputs": [],
   "source": [
    "from numba import njit\n",
    "import numpy as np"
   ]
  },
  {
   "cell_type": "code",
   "execution_count": null,
   "id": "699ae386",
   "metadata": {
    "tags": []
   },
   "outputs": [],
   "source": [
    "def big_loop(x):\n",
    "    y = np.zeros(len(x))\n",
    "    for i in range(len(x)):\n",
    "        vector = x[i]\n",
    "        y[i] = np.dot(vector, vector)\n",
    "        \n",
    "    return y\n",
    "    "
   ]
  },
  {
   "cell_type": "code",
   "execution_count": null,
   "id": "38e81dc9",
   "metadata": {
    "tags": []
   },
   "outputs": [],
   "source": [
    "x = np.random.rand(1_000_000, 50)"
   ]
  },
  {
   "cell_type": "code",
   "execution_count": null,
   "id": "e5b645b7",
   "metadata": {
    "tags": []
   },
   "outputs": [],
   "source": [
    "%time big_loop(x)"
   ]
  },
  {
   "cell_type": "code",
   "execution_count": null,
   "id": "f11d6c6d",
   "metadata": {
    "tags": []
   },
   "outputs": [],
   "source": [
    "new_big_loop = njit(big_loop)"
   ]
  },
  {
   "cell_type": "code",
   "execution_count": null,
   "id": "4fe4f829",
   "metadata": {
    "tags": []
   },
   "outputs": [],
   "source": [
    "%time new_big_loop(x)"
   ]
  },
  {
   "cell_type": "code",
   "execution_count": null,
   "id": "b0fc8bd6-d744-47ec-a78b-b9dfe25c1dda",
   "metadata": {},
   "outputs": [],
   "source": [
    "from numba import jit"
   ]
  },
  {
   "cell_type": "code",
   "execution_count": null,
   "id": "298f2478",
   "metadata": {
    "tags": []
   },
   "outputs": [],
   "source": [
    "from numba import prange\n",
    "\n",
    "@njit\n",
    "def big_loop(x):\n",
    "    y = np.zeros(len(x))\n",
    "    \n",
    "    for i in range(len(x)):\n",
    "        vector = x[i]\n",
    "        y[i] = np.dot(vector, vector)\n",
    "    return y\n",
    "\n",
    "\n",
    "@njit(parallel=True)\n",
    "def parallel_big_loop(x):\n",
    "    y = np.zeros(len(x))\n",
    "    \n",
    "    for i in prange(len(x)):\n",
    "        vector = x[i]\n",
    "        \n",
    "        partial_sum = 0\n",
    "        for j in range(len(vector)):\n",
    "            partial_sum += vector[j] * vector[j]\n",
    "            \n",
    "        y[i] = partial_sum #np.dot(vector, vector)\n",
    "    return y"
   ]
  },
  {
   "cell_type": "code",
   "execution_count": null,
   "id": "98c89b1a",
   "metadata": {
    "tags": []
   },
   "outputs": [],
   "source": [
    "%timeit big_loop(x)"
   ]
  },
  {
   "cell_type": "code",
   "execution_count": null,
   "id": "2f057e04",
   "metadata": {
    "tags": []
   },
   "outputs": [],
   "source": [
    "%timeit parallel_big_loop(x)"
   ]
  },
  {
   "cell_type": "code",
   "execution_count": null,
   "id": "d61d05d4",
   "metadata": {
    "tags": []
   },
   "outputs": [],
   "source": [
    "parallel_big_loop(x)"
   ]
  },
  {
   "cell_type": "code",
   "execution_count": null,
   "id": "9e2cb509",
   "metadata": {
    "tags": []
   },
   "outputs": [],
   "source": [
    "%timeit np.sum((x * x), axis=1)"
   ]
  },
  {
   "cell_type": "code",
   "execution_count": null,
   "id": "b9134923-5844-4c5a-9111-a93a61630b14",
   "metadata": {},
   "outputs": [],
   "source": [
    "from numba import vectorize, float64\n",
    "\n",
    "def strange_sum(x, y):\n",
    "    if x > 1:\n",
    "        s_sum = x + y\n",
    "    else:\n",
    "        s_sum = 0\n",
    "    return s_sum"
   ]
  },
  {
   "cell_type": "code",
   "execution_count": null,
   "id": "d50e31cf-3cb6-4c4a-9114-190ba039a402",
   "metadata": {},
   "outputs": [],
   "source": [
    "x = np.arange(0, 2, 0.1)"
   ]
  },
  {
   "cell_type": "code",
   "execution_count": null,
   "id": "3ef6e519-f212-40de-a312-dbd617907731",
   "metadata": {},
   "outputs": [],
   "source": [
    "strange_sum(x, x)"
   ]
  },
  {
   "cell_type": "markdown",
   "id": "e86294bd",
   "metadata": {},
   "source": [
    "## create ufunc"
   ]
  },
  {
   "cell_type": "code",
   "execution_count": null,
   "id": "c8f366b8",
   "metadata": {
    "tags": []
   },
   "outputs": [],
   "source": [
    "from numba import vectorize, float64, guvectorize\n",
    "\n",
    "@vectorize([float64(float64, float64)])\n",
    "def strange_sum(x, y):\n",
    "    if x > 1:\n",
    "        s_sum = x + y\n",
    "    else:\n",
    "        s_sum = 0\n",
    "    return s_sum"
   ]
  },
  {
   "cell_type": "code",
   "execution_count": null,
   "id": "20f0ce89",
   "metadata": {
    "tags": []
   },
   "outputs": [],
   "source": [
    "x = np.arange(0, 2, 0.1)\n",
    "strange_sum(x, x)"
   ]
  },
  {
   "cell_type": "code",
   "execution_count": null,
   "id": "a9e93733-4ecc-427c-b922-92c4b1e69799",
   "metadata": {},
   "outputs": [],
   "source": []
  },
  {
   "cell_type": "markdown",
   "id": "63c70c77",
   "metadata": {},
   "source": [
    "## Stencil"
   ]
  },
  {
   "cell_type": "code",
   "execution_count": null,
   "id": "7629644a",
   "metadata": {
    "tags": []
   },
   "outputs": [],
   "source": [
    "from numba import stencil\n",
    "\n",
    "@stencil\n",
    "def kernel1(a):\n",
    "    return a[0, 1] + a[1, 0] + a[0, -1] + a[-1, 0]\n"
   ]
  },
  {
   "cell_type": "code",
   "execution_count": null,
   "id": "94168585",
   "metadata": {
    "tags": []
   },
   "outputs": [],
   "source": [
    "input_arr = np.random.randint(2, size = (5, 5))\n",
    "print(input_arr)\n",
    "print()\n",
    "output_arr = kernel1(input_arr)\n",
    "print(output_arr)"
   ]
  },
  {
   "cell_type": "code",
   "execution_count": null,
   "id": "9f70c578",
   "metadata": {
    "tags": []
   },
   "outputs": [],
   "source": []
  }
 ],
 "metadata": {
  "kernelspec": {
   "display_name": "Python 3 (ipykernel)",
   "language": "python",
   "name": "python3"
  },
  "language_info": {
   "codemirror_mode": {
    "name": "ipython",
    "version": 3
   },
   "file_extension": ".py",
   "mimetype": "text/x-python",
   "name": "python",
   "nbconvert_exporter": "python",
   "pygments_lexer": "ipython3",
   "version": "3.10.4"
  }
 },
 "nbformat": 4,
 "nbformat_minor": 5
}
