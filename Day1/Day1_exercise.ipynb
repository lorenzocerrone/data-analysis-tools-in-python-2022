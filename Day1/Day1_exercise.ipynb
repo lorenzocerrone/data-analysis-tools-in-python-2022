{
 "cells": [
  {
   "cell_type": "markdown",
   "id": "ee2f9baf",
   "metadata": {
    "slideshow": {
     "slide_type": "slide"
    }
   },
   "source": [
    "# Problem 1 - Part 1\n",
    "\n",
    "The taks: \n",
    "- read a list of integers from a file\n",
    "- find how many entries are greater than the prevous entry\n",
    "\n",
    "example:\n",
    "```\n",
    "199 (N/A - no previous measurement)\n",
    "200 (increased)\n",
    "208 (increased)\n",
    "210 (increased)\n",
    "200 (decreased)\n",
    "```\n",
    "Solution here is `3`"
   ]
  },
  {
   "cell_type": "code",
   "execution_count": null,
   "id": "e1fe0396",
   "metadata": {
    "slideshow": {
     "slide_type": "subslide"
    }
   },
   "outputs": [],
   "source": [
    "list_inputs = []\n",
    "with open('./data/aoc2021_day1_input.txt', 'r') as f:\n",
    "    for line in f.readlines():\n",
    "        list_inputs.append(int(line))"
   ]
  },
  {
   "cell_type": "code",
   "execution_count": null,
   "id": "17c45622",
   "metadata": {
    "slideshow": {
     "slide_type": "fragment"
    }
   },
   "outputs": [],
   "source": [
    "counts = 0\n",
    "for i, value in enumerate(list_inputs[:-1]):\n",
    "    counts += 1 if list_inputs[i + 1] > value else 0\n",
    "    \n",
    "print(f\"Final count is {counts}\")"
   ]
  },
  {
   "cell_type": "markdown",
   "id": "593b120f",
   "metadata": {
    "slideshow": {
     "slide_type": "subslide"
    }
   },
   "source": [
    "# Possible way to improove the solution?"
   ]
  },
  {
   "cell_type": "markdown",
   "id": "82b3c56d",
   "metadata": {
    "slideshow": {
     "slide_type": "fragment"
    }
   },
   "source": [
    "- `int(line)` is prone to fail (example `int('7 a')`)\n",
    "- use `zip` would avoid to indexing directly the list"
   ]
  },
  {
   "cell_type": "code",
   "execution_count": null,
   "id": "0fc1e801",
   "metadata": {
    "slideshow": {
     "slide_type": "subslide"
    }
   },
   "outputs": [],
   "source": [
    "import re\n",
    "with open('./data/aoc2021_day1_input.txt', 'r') as f:\n",
    "    # re allows to find any value that fit a user defined regex\n",
    "    list_inputs = [int(re.findall('\\d+', line)[0]) for line in f.readlines()]\n",
    "\n",
    "# list_inputs\n",
    "# [1, 2, 3]\n",
    "# list_inputs[:-1]\n",
    "# [1, 2]\n",
    "# list_inputs[1:]\n",
    "# [2, 3]\n",
    "\n",
    "counts = len([0 for value1, value2 in zip(list_inputs[:-1], list_inputs[1:]) if value2 > value1])\n",
    "print(f\"Final count is {counts}\")"
   ]
  },
  {
   "cell_type": "markdown",
   "id": "f11ce3ef",
   "metadata": {
    "slideshow": {
     "slide_type": "subslide"
    }
   },
   "source": [
    "# Problem 1 - Part 2\n",
    "\n",
    "Solve the same proble but averaging three measurement in a sliding window fashion\n",
    "```\n",
    "199  A       -> A: 607 (N/A - no previous sum)\n",
    "200  A B     -> B: 618 (increased)\n",
    "208  A B C   -> C: 618 (no change)\n",
    "210    B C D -> D: 617 (decreased)\n",
    "200  E   C D ...\n",
    "```"
   ]
  },
  {
   "cell_type": "code",
   "execution_count": null,
   "id": "bc51209c",
   "metadata": {
    "slideshow": {
     "slide_type": "subslide"
    }
   },
   "outputs": [],
   "source": [
    "def count_depth_increase(list_inputs: list) -> int:\n",
    "    return len([0 for value1, value2 in zip(list_inputs[:-1], list_inputs[1:]) if value2 > value1])\n",
    "\n",
    "# same strategy\n",
    "# list_inputs\n",
    "# [1, 2, 3, 4, 5]\n",
    "# Sliding window\n",
    "# list_inputs[:-2]\n",
    "# [1, 2, 3]\n",
    "# list_inputs[1:-1]\n",
    "# [2, 3, 4]\n",
    "# list_inputs[2:]\n",
    "# [3, 4, 5]\n",
    "\n",
    "new_inputs = [(value1 + value2 + value3)/3 for value1, value2, value3 in zip(list_inputs[:-2],\n",
    "                                                                         list_inputs[1:-1],\n",
    "                                                                         list_inputs[2:])]\n",
    "counts = count_depth_increase(new_inputs)\n",
    "print(f\"Final count is {counts}\")"
   ]
  },
  {
   "cell_type": "markdown",
   "id": "ab92f82a",
   "metadata": {
    "slideshow": {
     "slide_type": "subslide"
    }
   },
   "source": [
    "# Possible way to improove the solution?"
   ]
  },
  {
   "cell_type": "markdown",
   "id": "9b673568",
   "metadata": {
    "slideshow": {
     "slide_type": "fragment"
    }
   },
   "source": [
    "* Sliding window size is fixed, what if we'll need to average 5 values? The code does not generalize"
   ]
  },
  {
   "cell_type": "code",
   "execution_count": null,
   "id": "3ce81438",
   "metadata": {
    "slideshow": {
     "slide_type": "subslide"
    }
   },
   "outputs": [],
   "source": [
    "import itertools\n",
    "\n",
    "# list_inputs\n",
    "# [1, 2, 3, 4, 5]\n",
    "# itertools.islice(list_inputs, 3)\n",
    "# [1, 2, 3]\n",
    "# itertools.islice(list_inputs, 4)\n",
    "# [1, 2, 3, 4]\n",
    "\n",
    "\n",
    "def sliding_window_generator(list_inputs, window_size=3):\n",
    "    for i in range(len(list_inputs)):\n",
    "        # for each loop queue a sub list from i to -1\n",
    "        queue_list = list_inputs[i:]\n",
    "        \n",
    "        # list() is required because islice returns a iterator without lenhts \n",
    "        window_slice = list(itertools.islice(queue_list, window_size))\n",
    "        \n",
    "        # check if window is larger that slice\n",
    "        if len(window_slice) == window_size:\n",
    "            yield sum(window_slice) / window_size\n",
    "            \n",
    "new_inputs = [sum_values for sum_values in sliding_window_generator(list_inputs, 10)]\n",
    "counts = count_depth_increase(new_inputs)\n",
    "print(f\"Final count is {counts}\")"
   ]
  },
  {
   "cell_type": "markdown",
   "id": "5cee4b13",
   "metadata": {
    "slideshow": {
     "slide_type": "slide"
    }
   },
   "source": [
    "# Problem 2 - Part 1\n",
    "\n",
    "- read a series of instructions from a file\n",
    "```\n",
    "forward 5\n",
    "down 5\n",
    "forward 8\n",
    "up 3\n",
    "```\n",
    "- starting from `horizontal position = 0` and `depth = 0` apply the instructions as follows:\n",
    "\n",
    "    - forward X increases the horizontal position by X units.\n",
    "    - down X increases the depth by X units.\n",
    "    - up X decreases the depth by X units.\n",
    "\n",
    "\n",
    "- after applying all instructions iteratively find the results by multiplying `horizontal position * depth`"
   ]
  },
  {
   "cell_type": "code",
   "execution_count": null,
   "id": "0ab9d6ea",
   "metadata": {
    "slideshow": {
     "slide_type": "subslide"
    }
   },
   "outputs": [],
   "source": [
    "with open('./data/aoc2021_day2_input.txt', 'r') as f:\n",
    "    list_direction_x = []\n",
    "    for line in f.readlines():\n",
    "        direction = ''.join(re.findall('[a-z]', line))\n",
    "        x = int(re.findall('\\d+', line)[0])\n",
    "        list_direction_x.append([direction, x])"
   ]
  },
  {
   "cell_type": "code",
   "execution_count": null,
   "id": "fec77f17",
   "metadata": {
    "slideshow": {
     "slide_type": "fragment"
    }
   },
   "outputs": [],
   "source": [
    "position = [0, 0]\n",
    "for direction, x in list_direction_x:\n",
    "    if direction == 'forward':\n",
    "        position[0] += x\n",
    "    \n",
    "    elif direction == 'up':\n",
    "        position[1] -= x\n",
    "    \n",
    "    elif direction == 'down':\n",
    "        position[1] += x\n",
    "        \n",
    "print(f'postion (h-pos, depth) = ({position[0]}, {position[1]}) - result {position[0] * position[1]}')"
   ]
  },
  {
   "cell_type": "markdown",
   "id": "3b0f3a8e",
   "metadata": {
    "slideshow": {
     "slide_type": "subslide"
    }
   },
   "source": [
    "# Possible way to improove the solution?"
   ]
  },
  {
   "cell_type": "markdown",
   "id": "f0e8d5b3",
   "metadata": {
    "slideshow": {
     "slide_type": "fragment"
    }
   },
   "source": [
    "- Saving the instructions/positions as list makes them a bit hard to use/read."
   ]
  },
  {
   "cell_type": "code",
   "execution_count": null,
   "id": "c334d02c",
   "metadata": {
    "slideshow": {
     "slide_type": "subslide"
    }
   },
   "outputs": [],
   "source": [
    "from collections import namedtuple\n",
    "# but dataclasses would also be great (probably better)\n",
    "\n",
    "with open('./data/aoc2021_day2_input.txt', 'r') as f:\n",
    "    list_instructions = []\n",
    "    instruction = namedtuple('instruction', 'direction x')\n",
    "    \n",
    "    for line in f.readlines():\n",
    "        direction = ''.join(re.findall('[a-z]', line))\n",
    "        x = int(re.findall('\\d+', line)[0])\n",
    "        list_instructions.append(instruction(direction=direction, x=x))"
   ]
  },
  {
   "cell_type": "code",
   "execution_count": null,
   "id": "f3b6dd6d",
   "metadata": {
    "slideshow": {
     "slide_type": "subslide"
    }
   },
   "outputs": [],
   "source": [
    "class SubmarinePosition:\n",
    "    def __init__(self, h_pos: int, depth: int):\n",
    "        self.h_pos = h_pos\n",
    "        self.depth = depth\n",
    "    \n",
    "    def forward(self, x: int):\n",
    "        self.h_pos += x\n",
    "        \n",
    "    def up(self, x: int):\n",
    "        self.depth -= x\n",
    "    \n",
    "    def down(self, x: int):\n",
    "        self.depth += x\n"
   ]
  },
  {
   "cell_type": "code",
   "execution_count": null,
   "id": "fcdbba58",
   "metadata": {
    "slideshow": {
     "slide_type": "subslide"
    }
   },
   "outputs": [],
   "source": [
    "class SubmarinePosition:\n",
    "    def __init__(self, h_pos: int, depth: int):\n",
    "        self.h_pos = h_pos\n",
    "        self.depth = depth\n",
    "    \n",
    "    def forward(self, x: int):\n",
    "        self.h_pos += x\n",
    "        \n",
    "    def up(self, x: int):\n",
    "        self.depth -= x\n",
    "    \n",
    "    def down(self, x: int):\n",
    "        self.depth += x\n",
    "        \n",
    "    def apply_instruction(self, instruction: instruction):\n",
    "        # find the right method to apply\n",
    "        method = getattr(self, instruction.direction)\n",
    "        \n",
    "        # apply method\n",
    "        method(instruction.x)\n",
    "        \n",
    "    def result(self):\n",
    "        return self.h_pos * self.depth"
   ]
  },
  {
   "cell_type": "code",
   "execution_count": null,
   "id": "af0be578",
   "metadata": {
    "slideshow": {
     "slide_type": "fragment"
    }
   },
   "outputs": [],
   "source": [
    "submarine = SubmarinePosition(h_pos=0, depth=0)\n",
    "\n",
    "for instruction in list_instructions:\n",
    "    submarine.apply_instruction(instruction)\n",
    "    \n",
    "print(f'postion (h-pos, depth) = ({submarine.h_pos}, {submarine.depth}) - result {submarine.result()}')"
   ]
  },
  {
   "cell_type": "markdown",
   "id": "b3aa9928",
   "metadata": {
    "slideshow": {
     "slide_type": "subslide"
    }
   },
   "source": [
    "# Problem 2 - Part 2\n",
    "- Your submarine now has three initial state parameters `horizontal position = 0`, `depth = 0` and `aim=0`\n",
    "- The new rules are:\n",
    "    - down X increases your aim by X units.\n",
    "    - up X decreases your aim by X units.\n",
    "    - forward X does two things:\n",
    "       - It increases your horizontal position by X units.\n",
    "       - It increases your depth by your aim multiplied by X. "
   ]
  },
  {
   "cell_type": "code",
   "execution_count": null,
   "id": "96a3b214",
   "metadata": {
    "slideshow": {
     "slide_type": "subslide"
    }
   },
   "outputs": [],
   "source": [
    "class BetterSubmarinePosition:\n",
    "    def __init__(self, h_pos: int, depth: int, aim: int):\n",
    "        self.h_pos = h_pos\n",
    "        self.depth = depth\n",
    "        self.aim = aim # change\n",
    "    \n",
    "    def forward(self, x: int):\n",
    "        self.h_pos += x\n",
    "        self.depth += self.aim * x # change\n",
    "        \n",
    "    def up(self, x: int):\n",
    "        self.aim -= x # change\n",
    "    \n",
    "    def down(self, x: int): # change\n",
    "        self.aim += x\n",
    "        \n",
    "    def apply_instruction(self, instruction: instruction):\n",
    "        # find the right method to apply\n",
    "        method = getattr(self, instruction.direction)\n",
    "        \n",
    "        # apply method\n",
    "        method(instruction.x)\n",
    "        \n",
    "    def result(self):\n",
    "        return self.h_pos * self.depth"
   ]
  },
  {
   "cell_type": "code",
   "execution_count": null,
   "id": "cf35d893",
   "metadata": {
    "slideshow": {
     "slide_type": "fragment"
    }
   },
   "outputs": [],
   "source": [
    "submarine = BetterSubmarinePosition(h_pos=0, depth=0, aim=0)\n",
    "\n",
    "for instruction in list_instructions:\n",
    "    submarine.apply_instruction(instruction)\n",
    "    \n",
    "print(f'postion (h-pos, depth) = ({submarine.h_pos}, {submarine.depth}) - result {submarine.result()}')"
   ]
  },
  {
   "cell_type": "markdown",
   "id": "2c9ceff2",
   "metadata": {
    "slideshow": {
     "slide_type": "subslide"
    }
   },
   "source": [
    "# Possible way to improove the solution?"
   ]
  },
  {
   "cell_type": "markdown",
   "id": "0003474d",
   "metadata": {
    "slideshow": {
     "slide_type": "fragment"
    }
   },
   "source": [
    "* a lot of copy paste. What if we still need the `standard` submarine and something in our model change? "
   ]
  },
  {
   "cell_type": "code",
   "execution_count": null,
   "id": "f8b1e6bc",
   "metadata": {
    "slideshow": {
     "slide_type": "skip"
    }
   },
   "outputs": [],
   "source": [
    "class SubmarinePosition:\n",
    "    def __init__(self, h_pos: int, depth: int):\n",
    "        self.h_pos = h_pos\n",
    "        self.depth = depth\n",
    "    \n",
    "    def forward(self, x: int):\n",
    "        self.h_pos += x\n",
    "        \n",
    "    def up(self, x: int):\n",
    "        self.depth -= x\n",
    "    \n",
    "    def down(self, x: int):\n",
    "        self.depth += x\n",
    "        \n",
    "    def apply_instruction(self, instruction: instruction):\n",
    "        # find the right method to apply\n",
    "        method = getattr(self, instruction.direction)\n",
    "        \n",
    "        # apply method\n",
    "        method(instruction.x)\n",
    "        \n",
    "    def result(self):\n",
    "        return self.h_pos * self.depth"
   ]
  },
  {
   "cell_type": "code",
   "execution_count": null,
   "id": "a59bd9ef",
   "metadata": {
    "slideshow": {
     "slide_type": "subslide"
    }
   },
   "outputs": [],
   "source": [
    "from abc import ABC\n",
    "class BetterSubmarinePosition(SubmarinePosition, ABC):\n",
    "    def __init__(self, h_pos: int, depth: int, aim: int):\n",
    "        super().__init__(h_pos=h_pos, depth=depth)\n",
    "        self.aim = aim # change\n",
    "    \n",
    "    def forward(self, x: int):\n",
    "        self.h_pos += x\n",
    "        self.depth += self.aim * x # change\n",
    "        \n",
    "    def up(self, x: int):\n",
    "        self.aim -= x # change\n",
    "    \n",
    "    def down(self, x: int): # change\n",
    "        self.aim += x\n",
    "        \n",
    "    # self.result and self.apply_instruction are inerithed from SubmarinePosition"
   ]
  },
  {
   "cell_type": "code",
   "execution_count": null,
   "id": "85ef61f9",
   "metadata": {
    "slideshow": {
     "slide_type": "fragment"
    }
   },
   "outputs": [],
   "source": [
    "submarine = BetterSubmarinePosition(h_pos=0, depth=0, aim=0)\n",
    "\n",
    "for instruction in list_instructions:\n",
    "    submarine.apply_instruction(instruction)\n",
    "    \n",
    "print(f'postion (h-pos, depth) = ({submarine.h_pos}, {submarine.depth}) - result {submarine.result()}')"
   ]
  },
  {
   "cell_type": "markdown",
   "id": "05ab4780",
   "metadata": {
    "slideshow": {
     "slide_type": "slide"
    }
   },
   "source": [
    "# Problem 3 - Part 1 - Part 2"
   ]
  },
  {
   "cell_type": "code",
   "execution_count": null,
   "id": "3f68936d",
   "metadata": {},
   "outputs": [],
   "source": [
    "import re\n",
    "from typing import List, Set\n",
    "\n",
    "class RowOrColumn:\n",
    "    def __init__(self, entries: Set[int]):\n",
    "        self.entries = entries\n",
    "        self.numbers_matched = set()\n",
    "        \n",
    "    def test_number(self, num: int) -> bool:\n",
    "        if num in self.entries:\n",
    "            self.numbers_matched.add(num)\n",
    "            return self._check_win()\n",
    "        \n",
    "        return False\n",
    "        \n",
    "    def _check_win(self) -> bool:\n",
    "        if len(self.entries.difference(self.numbers_matched)) == 0:\n",
    "            return True\n",
    "        \n",
    "        return False\n",
    "    \n",
    "    def __repr__(self):\n",
    "        return f'{self.entries=}, {self.numbers_matched=}'\n",
    "    \n",
    "class Board:\n",
    "    def __init__(self, idx_board: int):\n",
    "        self.idx_board = idx_board\n",
    "        self.rows = []\n",
    "        self.columns = []\n",
    "        \n",
    "        self.extractions = set()\n",
    "    \n",
    "    def add_row(self, new_row: List[int]):\n",
    "        new_row = set(new_row)\n",
    "        new_row = RowOrColumn(entries=new_row)\n",
    "        self.rows.append(new_row)\n",
    "        \n",
    "        \n",
    "    def add_column(self, new_column: List[int]):\n",
    "        new_column = set(new_column)\n",
    "        new_column = RowOrColumn(entries=new_column)\n",
    "        self.columns.append(new_column)\n",
    "        \n",
    "        \n",
    "    def check_victory(self, num: int):\n",
    "        self.extractions.add(num)\n",
    "        for i, row in enumerate(self.rows):\n",
    "            win = row.test_number(num)\n",
    "            \n",
    "            if win:\n",
    "                return (self.idx_board, 'row', i, num, self.check_result(num))\n",
    "        \n",
    "        for i, col in enumerate(self.columns):\n",
    "            win = col.test_number(num)\n",
    "            \n",
    "            if win:\n",
    "                return (self.idx_board, 'col', i, num, self.check_result(num))\n",
    "        \n",
    "        return False\n",
    "    \n",
    "    def check_result(self, num: int) -> int:\n",
    "        not_extracted = set()\n",
    "        for i, row in enumerate(self.rows):\n",
    "            not_extracted = not_extracted.union(row.entries.difference(row.numbers_matched))\n",
    "            \n",
    "        return sum(not_extracted) * num\n",
    "            \n",
    "    def __repr__(self):\n",
    "        return f'Board {self.idx_board}'\n",
    "    \n",
    "with open('./data/aoc2021_day4_input.txt', 'r') as f:\n",
    "    header = f.readline()\n",
    "    extacted_numbers = [int(h) for h in header.split(',')]\n",
    "    \n",
    "    dict_boards, idx_board = {}, -1\n",
    "    for i, line in enumerate(f.readlines()):\n",
    "        if line == '\\n':\n",
    "            idx_board += 1\n",
    "            new_board = Board(idx_board=idx_board)\n",
    "            columns = [list() for i in range(5)]\n",
    "            \n",
    "        else:\n",
    "            int_in_line = re.findall('\\d+', line)\n",
    "            # setup rows\n",
    "            row = [int(entry) for entry in int_in_line]\n",
    "            new_board.add_row(row)\n",
    "            \n",
    "            # columns \n",
    "            for ii, entry in enumerate(row):\n",
    "                columns[ii].append(entry)\n",
    "            \n",
    "            if len(columns[0]) == 5:\n",
    "                for c in columns:\n",
    "                    new_board.add_column(c)\n",
    "                    \n",
    "                dict_boards[idx_board] = new_board\n",
    "                \n",
    "\n",
    "winners, winners_set = [], set()\n",
    "for num in extacted_numbers:\n",
    "    for board in dict_boards.values():\n",
    "        winner = board.check_victory(num)\n",
    "        \n",
    "        if winner and winner[0] not in winners_set:\n",
    "            winners_set.add(winner[0])\n",
    "            winners.append(winner)\n",
    "            \n",
    "winners[0], winners[-1]"
   ]
  }
 ],
 "metadata": {
  "celltoolbar": "Slideshow",
  "kernelspec": {
   "display_name": "Python 3 (ipykernel)",
   "language": "python",
   "name": "python3"
  },
  "language_info": {
   "codemirror_mode": {
    "name": "ipython",
    "version": 3
   },
   "file_extension": ".py",
   "mimetype": "text/x-python",
   "name": "python",
   "nbconvert_exporter": "python",
   "pygments_lexer": "ipython3",
   "version": "3.10.4"
  }
 },
 "nbformat": 4,
 "nbformat_minor": 5
}
