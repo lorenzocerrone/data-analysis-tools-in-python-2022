{
 "cells": [
  {
   "cell_type": "markdown",
   "id": "9914ab23",
   "metadata": {
    "slideshow": {
     "slide_type": "slide"
    },
    "tags": [
     "0"
    ]
   },
   "source": [
    "# Data analysis tools in Python"
   ]
  },
  {
   "cell_type": "code",
   "execution_count": null,
   "id": "bf8e807c",
   "metadata": {
    "slideshow": {
     "slide_type": "fragment"
    }
   },
   "outputs": [],
   "source": [
    "print(\"Hello World\")"
   ]
  },
  {
   "cell_type": "markdown",
   "id": "d23b05e6",
   "metadata": {
    "slideshow": {
     "slide_type": "slide"
    }
   },
   "source": [
    "## Basics of Jupyter"
   ]
  },
  {
   "cell_type": "markdown",
   "id": "5fd196d6",
   "metadata": {
    "slideshow": {
     "slide_type": "slide"
    }
   },
   "source": [
    "### shortcuts\n",
    "- `ctrl + enter` or `shift + enter`: run code in a cell or run and go down one cell\n",
    "- `ctrl + s`: save\n",
    "- `ctrl + shift + -`:  split the cell where the cursor is \n",
    "\n",
    "### magics\n",
    "- `[something]?`: shows the documentation of `[something]`\n",
    "- `%timeit`, `%time`: to check the run time of a line\n",
    "- `%%timeit`, `%%time`: to check the run time of a cell\n",
    "- `%load_ext autoreload; %autoreload 2`: if you want to work on a local file \n",
    "\n",
    "if you have any doubts press `Tab`"
   ]
  },
  {
   "cell_type": "code",
   "execution_count": null,
   "id": "4d0482f9",
   "metadata": {
    "slideshow": {
     "slide_type": "fragment"
    }
   },
   "outputs": [],
   "source": []
  },
  {
   "cell_type": "markdown",
   "id": "48418f6c",
   "metadata": {
    "slideshow": {
     "slide_type": "slide"
    }
   },
   "source": [
    "# Data Types"
   ]
  },
  {
   "cell_type": "markdown",
   "id": "b0dae582",
   "metadata": {
    "slideshow": {
     "slide_type": "subslide"
    }
   },
   "source": [
    "## Numbers"
   ]
  },
  {
   "cell_type": "code",
   "execution_count": null,
   "id": "4ac6a415",
   "metadata": {
    "slideshow": {
     "slide_type": "fragment"
    }
   },
   "outputs": [],
   "source": [
    "True, False                      # bool\n",
    "10, 10_000, int('10')            # integers\n",
    "10., 1e-4, float('1.3')          # floats (default is float64)\n",
    "1 + 5j, complex(0, 1)            # complex"
   ]
  },
  {
   "cell_type": "code",
   "execution_count": null,
   "id": "a2b84d03",
   "metadata": {
    "slideshow": {
     "slide_type": "fragment"
    }
   },
   "outputs": [],
   "source": []
  },
  {
   "cell_type": "markdown",
   "id": "1ba54e12",
   "metadata": {
    "slideshow": {
     "slide_type": "subslide"
    }
   },
   "source": [
    "## Strings"
   ]
  },
  {
   "cell_type": "code",
   "execution_count": null,
   "id": "9f8ff4c5-0c9d-4969-9665-243f8be09655",
   "metadata": {
    "slideshow": {
     "slide_type": "fragment"
    }
   },
   "outputs": [],
   "source": [
    "'this is a string', \"this is also a 'string'\""
   ]
  },
  {
   "cell_type": "code",
   "execution_count": null,
   "id": "72bf632c",
   "metadata": {
    "slideshow": {
     "slide_type": "fragment"
    }
   },
   "outputs": [],
   "source": []
  },
  {
   "cell_type": "markdown",
   "id": "041b0196",
   "metadata": {
    "slideshow": {
     "slide_type": "subslide"
    }
   },
   "source": [
    "## Lists"
   ]
  },
  {
   "cell_type": "code",
   "execution_count": null,
   "id": "0bc7cc11",
   "metadata": {
    "slideshow": {
     "slide_type": "fragment"
    }
   },
   "outputs": [],
   "source": [
    "[1, 2, 3], ['a', 'b', 1], [ [1, 0], [0, 1] ]"
   ]
  },
  {
   "cell_type": "code",
   "execution_count": null,
   "id": "1c0a2de1",
   "metadata": {
    "slideshow": {
     "slide_type": "fragment"
    }
   },
   "outputs": [],
   "source": []
  },
  {
   "cell_type": "markdown",
   "id": "4611d5e2",
   "metadata": {
    "slideshow": {
     "slide_type": "subslide"
    }
   },
   "source": [
    "## Dictionaries"
   ]
  },
  {
   "cell_type": "code",
   "execution_count": null,
   "id": "90bae52e",
   "metadata": {
    "slideshow": {
     "slide_type": "fragment"
    }
   },
   "outputs": [],
   "source": [
    "{'a': 1, 'b': [0, 0, 1]}, dict(a=1, b=[0, 0, 0])"
   ]
  },
  {
   "cell_type": "code",
   "execution_count": null,
   "id": "ceb498ce",
   "metadata": {
    "slideshow": {
     "slide_type": "fragment"
    }
   },
   "outputs": [],
   "source": []
  },
  {
   "cell_type": "markdown",
   "id": "ca6853ba",
   "metadata": {
    "slideshow": {
     "slide_type": "subslide"
    }
   },
   "source": [
    "## Sets and Tuples"
   ]
  },
  {
   "cell_type": "code",
   "execution_count": null,
   "id": "e5841140",
   "metadata": {
    "slideshow": {
     "slide_type": "fragment"
    }
   },
   "outputs": [],
   "source": [
    "{1, 2, 2, 2, 1, 3}, (1, 2, 3)"
   ]
  },
  {
   "cell_type": "markdown",
   "id": "9e0f8fa5",
   "metadata": {
    "slideshow": {
     "slide_type": "slide"
    }
   },
   "source": [
    "# Operations"
   ]
  },
  {
   "cell_type": "markdown",
   "id": "8a014c6e",
   "metadata": {
    "slideshow": {
     "slide_type": "subslide"
    }
   },
   "source": [
    "## Number arithmetic"
   ]
  },
  {
   "cell_type": "code",
   "execution_count": null,
   "id": "bc0f88ec",
   "metadata": {
    "slideshow": {
     "slide_type": "fragment"
    }
   },
   "outputs": [],
   "source": []
  },
  {
   "cell_type": "markdown",
   "id": "cd5dc98f",
   "metadata": {
    "slideshow": {
     "slide_type": "subslide"
    }
   },
   "source": [
    "## Logical"
   ]
  },
  {
   "cell_type": "code",
   "execution_count": null,
   "id": "aa0f6506",
   "metadata": {
    "slideshow": {
     "slide_type": "fragment"
    }
   },
   "outputs": [],
   "source": [
    "1 == 1, 2 > 1, 1 >= 1                       # all true\n",
    "1 == 1 and True, True or False, not False   # all true\n",
    "1 != 1, 1 < 1 < 3                           # all false"
   ]
  },
  {
   "cell_type": "code",
   "execution_count": null,
   "id": "5a825970",
   "metadata": {
    "slideshow": {
     "slide_type": "fragment"
    }
   },
   "outputs": [],
   "source": []
  },
  {
   "cell_type": "markdown",
   "id": "6155fe5b",
   "metadata": {
    "slideshow": {
     "slide_type": "subslide"
    }
   },
   "source": [
    "## Lists"
   ]
  },
  {
   "cell_type": "code",
   "execution_count": null,
   "id": "9043017f",
   "metadata": {
    "slideshow": {
     "slide_type": "fragment"
    }
   },
   "outputs": [],
   "source": [
    "a = [1, 2, 3]"
   ]
  },
  {
   "cell_type": "markdown",
   "id": "ed2a90f2",
   "metadata": {
    "slideshow": {
     "slide_type": "slide"
    }
   },
   "source": [
    "# Controll flows"
   ]
  },
  {
   "cell_type": "markdown",
   "id": "1a7de5f0",
   "metadata": {
    "slideshow": {
     "slide_type": "subslide"
    }
   },
   "source": [
    "## If statement"
   ]
  },
  {
   "cell_type": "code",
   "execution_count": null,
   "id": "58fa7a5c",
   "metadata": {
    "slideshow": {
     "slide_type": "fragment"
    }
   },
   "outputs": [],
   "source": [
    "if 1 > 2:\n",
    "    print('1 > 2')\n",
    "    \n",
    "elif 1 in [1, 2, 3]:\n",
    "    print('1 in ..')\n",
    "    \n",
    "elif 1 not in [1, 2, 3]:\n",
    "    print('1 not in ..')\n",
    "    \n",
    "else:\n",
    "    print('False')"
   ]
  },
  {
   "cell_type": "code",
   "execution_count": null,
   "id": "843bd571",
   "metadata": {
    "slideshow": {
     "slide_type": "fragment"
    }
   },
   "outputs": [],
   "source": []
  },
  {
   "cell_type": "markdown",
   "id": "ca726a55",
   "metadata": {
    "slideshow": {
     "slide_type": "subslide"
    }
   },
   "source": [
    "## For loops"
   ]
  },
  {
   "cell_type": "code",
   "execution_count": null,
   "id": "142b3b74",
   "metadata": {},
   "outputs": [],
   "source": [
    "for i in ['a', 'b', 'd']:\n",
    "    print(i)\n",
    "    \n",
    "[i for i in range(5)]\n",
    "{i: i**2 for i in range(5)}\n"
   ]
  },
  {
   "cell_type": "markdown",
   "id": "8c9916c2",
   "metadata": {
    "slideshow": {
     "slide_type": "subslide"
    }
   },
   "source": [
    "## List comprehension"
   ]
  },
  {
   "cell_type": "code",
   "execution_count": null,
   "id": "e85a234b",
   "metadata": {
    "slideshow": {
     "slide_type": "fragment"
    }
   },
   "outputs": [],
   "source": [
    "[i for i in range(5) if i % 2 == 0]"
   ]
  },
  {
   "cell_type": "markdown",
   "id": "3199d37b",
   "metadata": {
    "slideshow": {
     "slide_type": "slide"
    }
   },
   "source": [
    "## Functions and arguments unpacking"
   ]
  },
  {
   "cell_type": "code",
   "execution_count": 1,
   "id": "a4aec70d",
   "metadata": {
    "slideshow": {
     "slide_type": "subslide"
    }
   },
   "outputs": [],
   "source": [
    "def sum_two_numbers(a, b):\n",
    "    return a + b"
   ]
  },
  {
   "cell_type": "markdown",
   "id": "7c6f30e6",
   "metadata": {
    "slideshow": {
     "slide_type": "fragment"
    }
   },
   "source": [
    "sum_two_numbers(1, 2)"
   ]
  },
  {
   "cell_type": "markdown",
   "id": "19c21934",
   "metadata": {
    "slideshow": {
     "slide_type": "subslide"
    }
   },
   "source": [
    "## Classes and name spaces"
   ]
  },
  {
   "cell_type": "code",
   "execution_count": 7,
   "id": "b0ec88c8",
   "metadata": {
    "slideshow": {
     "slide_type": "fragment"
    }
   },
   "outputs": [],
   "source": [
    "\n",
    "class Person:\n",
    "    def __init__(self, name: str = 'Bob', age: int = 18):\n",
    "        self.name = name\n",
    "        self.age = age\n",
    "        \n",
    "    def after_one_year(self) -> None:\n",
    "        x = 'inner test'\n",
    "        self.age += 1"
   ]
  },
  {
   "cell_type": "markdown",
   "id": "8a0767e3",
   "metadata": {
    "slideshow": {
     "slide_type": "slide"
    }
   },
   "source": [
    "# Advanced Topics"
   ]
  },
  {
   "cell_type": "markdown",
   "id": "2ed2c70e",
   "metadata": {
    "slideshow": {
     "slide_type": "subslide"
    }
   },
   "source": [
    "## Decorators and higher order functions"
   ]
  },
  {
   "cell_type": "code",
   "execution_count": null,
   "id": "5a3b5ec9",
   "metadata": {
    "slideshow": {
     "slide_type": "fragment"
    }
   },
   "outputs": [],
   "source": [
    "def sum_two_numbers(a, b):\n",
    "    return a + b\n",
    "\n",
    "...\n",
    "sum_two_numbers(1, 2) # how long does this take? \n",
    "...\n",
    "\n",
    "None"
   ]
  },
  {
   "cell_type": "markdown",
   "id": "ed126beb",
   "metadata": {
    "slideshow": {
     "slide_type": "subslide"
    }
   },
   "source": [
    "## Dunder Methods\n",
    "\"If it walks like a duck and it quacks like a duck, then it must be a duck\""
   ]
  },
  {
   "cell_type": "code",
   "execution_count": null,
   "id": "b7f1faea",
   "metadata": {
    "scrolled": true,
    "slideshow": {
     "slide_type": "fragment"
    }
   },
   "outputs": [],
   "source": [
    "class Postion:\n",
    "    def __init__(self, x, y):\n",
    "        self.x = x\n",
    "        self.y = y\n",
    "        \n",
    "def add_positions(p1, p2):\n",
    "    return Postion(p1.x + p2.x, p1.y + p2.y)\n"
   ]
  },
  {
   "cell_type": "markdown",
   "id": "dc1ae508",
   "metadata": {
    "slideshow": {
     "slide_type": "subslide"
    }
   },
   "source": [
    "# Inheritance and the super method"
   ]
  },
  {
   "cell_type": "code",
   "execution_count": 11,
   "id": "af1c16fc",
   "metadata": {
    "slideshow": {
     "slide_type": "fragment"
    }
   },
   "outputs": [],
   "source": [
    "class Pet:\n",
    "    def __init__(self, name: str, age: int):\n",
    "        self.name = name\n",
    "        self.age = age\n",
    "        \n",
    "    def __repr__(self):\n",
    "        return f'{self.name} is a {self.age} years old Pet'"
   ]
  },
  {
   "cell_type": "code",
   "execution_count": 10,
   "id": "4ec11af7",
   "metadata": {
    "slideshow": {
     "slide_type": "fragment"
    }
   },
   "outputs": [
    {
     "data": {
      "text/plain": [
       "Whisky is a 1 years old Pet"
      ]
     },
     "execution_count": 10,
     "metadata": {},
     "output_type": "execute_result"
    }
   ],
   "source": [
    "Pet('Whisky', age=1)"
   ]
  },
  {
   "cell_type": "markdown",
   "id": "d0f58e6b",
   "metadata": {
    "slideshow": {
     "slide_type": "slide"
    }
   },
   "source": [
    "# Tools in the standard Library"
   ]
  },
  {
   "cell_type": "code",
   "execution_count": 4,
   "id": "20d44fc9",
   "metadata": {
    "slideshow": {
     "slide_type": "subslide"
    }
   },
   "outputs": [],
   "source": [
    "import pathlib"
   ]
  },
  {
   "cell_type": "code",
   "execution_count": 5,
   "id": "878e5b1b",
   "metadata": {
    "slideshow": {
     "slide_type": "subslide"
    }
   },
   "outputs": [],
   "source": [
    "import functools"
   ]
  },
  {
   "cell_type": "code",
   "execution_count": 6,
   "id": "dcba724a",
   "metadata": {
    "slideshow": {
     "slide_type": "subslide"
    }
   },
   "outputs": [],
   "source": [
    "import itertools"
   ]
  },
  {
   "cell_type": "code",
   "execution_count": null,
   "id": "7efe3fdd",
   "metadata": {
    "slideshow": {
     "slide_type": "subslide"
    }
   },
   "outputs": [],
   "source": [
    "import dataclasses"
   ]
  }
 ],
 "metadata": {
  "celltoolbar": "Slideshow",
  "kernelspec": {
   "display_name": "Python 3 (ipykernel)",
   "language": "python",
   "name": "python3"
  },
  "language_info": {
   "codemirror_mode": {
    "name": "ipython",
    "version": 3
   },
   "file_extension": ".py",
   "mimetype": "text/x-python",
   "name": "python",
   "nbconvert_exporter": "python",
   "pygments_lexer": "ipython3",
   "version": "3.10.4"
  },
  "toc-showcode": false
 },
 "nbformat": 4,
 "nbformat_minor": 5
}